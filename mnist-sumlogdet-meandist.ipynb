{
 "cells": [
  {
   "cell_type": "code",
   "execution_count": 203,
   "metadata": {},
   "outputs": [],
   "source": [
    "# Packages\n",
    "using Knet, AutoGrad, LinearAlgebra, Base.Iterators, Statistics, Random, StatsBase, IterTools, Plots"
   ]
  },
  {
   "cell_type": "code",
   "execution_count": 118,
   "metadata": {},
   "outputs": [
    {
     "data": {
      "text/plain": [
       "0.0001"
      ]
     },
     "execution_count": 118,
     "metadata": {},
     "output_type": "execute_result"
    }
   ],
   "source": [
    "# Constants\n",
    "ENV[\"COLUMNS\"] = 64\n",
    "ARRAY=Array{Float64} # KnetArray{Float32}\n",
    "UPDATE=true # keep this true (false only useful for checking gradients)\n",
    "BSIZE=1     # keep batchsize=1 until larger ones supported\n",
    "XSIZE=28*28\n",
    "YSIZE=10\n",
    "HSIZE=[64]\n",
    "ALPHA=100.0\n",
    "GAMMA1=0.0001\n",
    "GAMMA2=0.01\n",
    "LAMBDA=0.995\n",
    "ETA=0.1\n",
    "MU0=0.0001"
   ]
  },
  {
   "cell_type": "code",
   "execution_count": 119,
   "metadata": {},
   "outputs": [],
   "source": [
    "# Load minibatched MNIST data:\n",
    "include(Knet.dir(\"data\",\"mnist.jl\"))\n",
    "dtrn, dtst = mnistdata(xtype=ARRAY, batchsize=BSIZE)\n",
    "xtrn, ytrn, xtst, ytst = mnist()\n",
    "xtrn = ARRAY(reshape(xtrn,(XSIZE,:)))\n",
    "xtst = ARRAY(reshape(xtst,(XSIZE,:)));"
   ]
  },
  {
   "cell_type": "code",
   "execution_count": 120,
   "metadata": {},
   "outputs": [],
   "source": [
    "# Model definition and initialization\n",
    "struct MLP; W; b; μ; B; g1; ∇g1; g2; ∇g2;\n",
    "    function MLP(dims...;α=ALPHA)\n",
    "        h,o = dims[end-1:end]\n",
    "        W = initw.(dims[1:end-1],dims[2:end])\n",
    "        b = initb.(dims[2:end])\n",
    "        μ = initμ(h,o)\n",
    "        B = initB(h,o;α=α)\n",
    "        g1 = initg1(B)\n",
    "        ∇g1 = init∇g1(h)\n",
    "        g2 = initg2(μ)\n",
    "        ∇g2 = init∇g2(h)\n",
    "        new(W, b, μ, B, g1, ∇g1, g2, ∇g2)\n",
    "    end\n",
    "end\n",
    "\n",
    "initw(i,o)=Param(ARRAY(xavier(o,i)))\n",
    "initb(o)=Param(ARRAY(zeros(o,1)))\n",
    "initμ(h,o)=ARRAY(MU0*randn(h,o))\n",
    "initB(h,o;α=ALPHA)=(B = zeros(h,h,o); for i in 1:o, j in 1:h; B[j,j,i] = α; end; ARRAY(B))\n",
    "initg1(B)=[ -sum(logdet.(B[:,:,i] for i in 1:size(B,3))) ]\n",
    "init∇g1(h)=ARRAY(zeros(h,1))\n",
    "initg2(μ)=((d,n)=(0,size(μ,2));for i=1:n-1,j=i+1:n;d-=log(norm(μ[:,i]-μ[:,j])^2);end;[d])\n",
    "init∇g2(h)=ARRAY(zeros(h,1))\n",
    "\n",
    "Base.show(io::IO, m::MLP)=print(IOContext(io,:compact=>true), \"MLP\", (size(m.W[1],2),length.(m.b)...))"
   ]
  },
  {
   "cell_type": "code",
   "execution_count": 121,
   "metadata": {},
   "outputs": [],
   "source": [
    "# Featurevec, predict and loss functions\n",
    "function featurevector(m::MLP,x)\n",
    "    L,y = length(m.W),mat(x)\n",
    "    for l in 1:L-1\n",
    "        y = relu.(m.b[l] .+ m.W[l] * y)\n",
    "    end\n",
    "    return y\n",
    "end\n",
    "\n",
    "function (m::MLP)(x) # predict\n",
    "    m.b[end] .+ m.W[end] * featurevector(m,x)\n",
    "end\n",
    "\n",
    "function (m::MLP)(x,labels;γ1=GAMMA1,γ2=GAMMA2) # loss\n",
    "    @assert length(labels)==1 \"Batchsize > 1 not implemented yet.\"\n",
    "    yfeat = featurevector(m,x)\n",
    "    ypred = m.b[end] .+ m.W[end] * yfeat\n",
    "    J = nll(ypred,labels)\n",
    "    g1 = sumlogdet(yfeat,labels,m)\n",
    "    g2 = meandist(yfeat,labels,m)\n",
    "    return J + γ1 * g1 + γ2 * g2\n",
    "end"
   ]
  },
  {
   "cell_type": "code",
   "execution_count": 122,
   "metadata": {},
   "outputs": [],
   "source": [
    "# computes and returns g1 = ∑ logdet(Ci) = -Σ logdet(Bi)\n",
    "# computes m.∇g1 if training()\n",
    "# updates m.g1 and m.B if update=TRUE\n",
    "function sumlogdet(y,labels,m; λ=LAMBDA, η=ETA, update=UPDATE)\n",
    "    β = labels[1]   # β(n) class label for the nth sample\n",
    "    μ = m.μ[:,β:β]  # μ[β(n)](n-1) exponentially weighted mean of class β(n) before the nth sample\n",
    "    B = m.B[:,:,β]  # B[β(n)](n-1) exponentially weighted inverse covariance matrix of class β(n) before the nth sample\n",
    "    \n",
    "    y0 = y - μ      # ybar[L-1](n) the centralized feature vector\n",
    "    z = B * y0      # unscaled gradient\n",
    "    κ = (1-λ)*λ\n",
    "    ξ = 1 / ((1/(1-λ)) + (y0' * B * y0)[1])  # gradient scaling\n",
    "    A = (1/λ)*(B - z*z'*ξ)  \n",
    "    B2 = A-(1-λ)*η*A*A/(1+(1-λ)*η*tr(A))  # updated inverse covariance matrix  \n",
    "    g1 = m.g1[1] + logdet(B) - logdet(B2) # updated -sumlogdet(B)\n",
    "\n",
    "    if training()  # Store gradient if differentiating\n",
    "        m.∇g1 .= 2 * κ * B2 * y0\n",
    "    end\n",
    "    \n",
    "    if update      # Update state if specified\n",
    "        m.g1[1] = g1\n",
    "        m.B[:,:,β] .= B2\n",
    "    end\n",
    "\n",
    "    return g1\n",
    "end\n",
    "\n",
    "@primitive sumlogdet(y,l,m;o...),dy  dy*m.∇g1"
   ]
  },
  {
   "cell_type": "code",
   "execution_count": 123,
   "metadata": {},
   "outputs": [],
   "source": [
    "# computes and returns g2 = -Σ log |μi-μj|^2\n",
    "# computes m.∇g2 if training()\n",
    "# updates m.g2 and m.μ if update=TRUE\n",
    "function meandist(y,labels,m; λ=LAMBDA, update=UPDATE)\n",
    "    M = size(m.μ,2) # number of classes\n",
    "    β = labels[1]   # β(n) class label for the nth sample\n",
    "    μ1 = m.μ[:,β:β] # μ[β(n)](n-1) exponentially weighted mean of class β(n) before the nth sample\n",
    "    μ2 = λ * μ1 + (1-λ) * y   # updated mean\n",
    "    g2 = 0\n",
    "    if training(); m.∇g2 .= 0; end\n",
    "    for k=1:M\n",
    "        if (k!=β)\n",
    "            olddist = norm(m.μ[:,k:k]-μ1)^2\n",
    "            newdist = norm(m.μ[:,k:k]-μ2)^2\n",
    "            g2 = g2 + log(olddist) - log(newdist)\n",
    "            if training()\n",
    "                m.∇g2 .+= (2 * (1-λ) / newdist) * (m.μ[:,k:k]-μ2)\n",
    "            end\n",
    "        end\n",
    "    end    \n",
    "    if update\n",
    "        m.g2[1] = g2\n",
    "        m.μ[:,β:β] .= μ2\n",
    "    end\n",
    "    return g2\n",
    "end\n",
    "\n",
    "@primitive meandist(y,l,m;o...),dy  dy*m.∇g2"
   ]
  },
  {
   "cell_type": "code",
   "execution_count": 140,
   "metadata": {},
   "outputs": [
    {
     "name": "stdout",
     "output_type": "stream",
     "text": [
      "x |> summary = \"28×28×1×1 Array{Float64,4}\"\n",
      "labels = UInt8[0x05]\n",
      "(y = featurevector(m, x)) |> summary = \"64×1 Array{Float64,2}\"\n",
      "(scores = m(x)) |> summary = \"10×1 Array{Float64,2}\"\n",
      "J = nll(scores, labels) = 2.4778561096154585\n",
      "g1 = sumlogdet(y, labels, m) = -2945.9880482939625\n",
      "g2 = meandist(y, labels, m) = -35.75083284918922\n",
      "J + GAMMA1 * g1 + GAMMA2 * g2 = -30.557107658243087\n",
      "m(x, labels) = -30.557107658243087\n"
     ]
    }
   ],
   "source": [
    "# Experiment 1: check model functions\n",
    "UPDATE=false\n",
    "(x,labels) = first(dtrn)\n",
    "m = MLP(XSIZE,HSIZE...,YSIZE)\n",
    "@show x |> summary\n",
    "@show labels\n",
    "@show (y = featurevector(m,x)) |> summary\n",
    "@show (scores = m(x)) |> summary\n",
    "@show J=nll(scores,labels)\n",
    "@show g1=sumlogdet(y,labels,m)\n",
    "@show g2=meandist(y,labels,m)\n",
    "@show J + GAMMA1 * g1 + GAMMA2 * g2\n",
    "@show m(x,labels)\n",
    "UPDATE=true;"
   ]
  },
  {
   "cell_type": "code",
   "execution_count": 129,
   "metadata": {},
   "outputs": [
    {
     "name": "stdout",
     "output_type": "stream",
     "text": [
      "#= In[129]:8 =# @gcheck(sumlogdet(py, labels, m)) = true\n",
      "#= In[129]:9 =# @gcheck(meandist(py, labels, m)) = true\n",
      "#= In[129]:10 =# @gcheck(nll(m(x), labels)) = true\n",
      "#= In[129]:11 =# @gcheck(m(x, labels)) = true\n"
     ]
    }
   ],
   "source": [
    "# Experiment 2: check gradients\n",
    "using AutoGrad: @gcheck, gcheck\n",
    "(x,labels) = first(dtrn)\n",
    "m = MLP(XSIZE,HSIZE...,YSIZE)\n",
    "y = featurevector(m,x)\n",
    "py = Param(y)\n",
    "UPDATE=false\n",
    "@show @gcheck sumlogdet(py,labels,m)\n",
    "@show @gcheck meandist(py,labels,m)\n",
    "@show @gcheck nll(m(x),labels)\n",
    "@show @gcheck m(x,labels)\n",
    "UPDATE=true;"
   ]
  },
  {
   "cell_type": "code",
   "execution_count": 138,
   "metadata": {},
   "outputs": [
    {
     "name": "stdout",
     "output_type": "stream",
     "text": [
      "-5.96e+00  100.00%┣████████┫ 10000/10000 [00:28/00:28, 362.85i/s]\n"
     ]
    },
    {
     "data": {
      "text/plain": [
       "(acc = 0.919, nll = 0.27138646039786907, g1 = -595.6611794864707, g2 = -235.20288970750443)"
      ]
     },
     "execution_count": 138,
     "metadata": {},
     "output_type": "execute_result"
    }
   ],
   "source": [
    "# Experiment 3: train one epoch with regularization\n",
    "Random.seed!(1)\n",
    "m = MLP(XSIZE,HSIZE...,YSIZE)\n",
    "GAMMA1,GAMMA2=0.01,0.1\n",
    "progress!(adam(m,dtst))\n",
    "(acc=accuracy(m,dtst),nll=nll(m(xtst),ytst),g1=initg1(m.B)[1],g2=initg2(m.μ)[1]) "
   ]
  },
  {
   "cell_type": "code",
   "execution_count": 131,
   "metadata": {},
   "outputs": [
    {
     "name": "stdout",
     "output_type": "stream",
     "text": [
      "2.56e-05  100.00%┣█████████┫ 10000/10000 [00:29/00:29, 347.50i/s]\n"
     ]
    },
    {
     "data": {
      "text/plain": [
       "(acc = 0.9198, nll = 0.2600133985319897, g1 = -647.7278184729371, g2 = -232.03334179923695)"
      ]
     },
     "execution_count": 131,
     "metadata": {},
     "output_type": "execute_result"
    }
   ],
   "source": [
    "# Experiment 4: train one epoch without regularization\n",
    "Random.seed!(1)\n",
    "m = MLP(XSIZE,HSIZE...,YSIZE)\n",
    "GAMMA1,GAMMA2 = 0,0\n",
    "progress!(adam(m,dtst))\n",
    "(acc=accuracy(m,dtst),nll=nll(m(xtst),ytst),g1=initg1(m.B)[1],g2=initg2(m.μ)[1]) "
   ]
  },
  {
   "cell_type": "code",
   "execution_count": 171,
   "metadata": {},
   "outputs": [
    {
     "name": "stdout",
     "output_type": "stream",
     "text": [
      "Dict(7=>10,4=>11,9=>11,10=>13,2=>6,3=>11,5=>5,8=>8,6=>11,1=>14)\n",
      "6.89e-01  100.00%┣██████████████▉┫ 100/100 [00:32/00:32, 3.09i/s]\n"
     ]
    },
    {
     "data": {
      "text/plain": [
       "(0.689, 21)"
      ]
     },
     "execution_count": 171,
     "metadata": {},
     "output_type": "execute_result"
    }
   ],
   "source": [
    "# Experiment 5: run to convergence with 100 instances, no regularization\n",
    "Random.seed!(1)\n",
    "d100 = take(dtrn,100)\n",
    "countmap([Int(y[1]) for (x,y) in d100]) |> println\n",
    "m = MLP(XSIZE,HSIZE...,YSIZE)\n",
    "GAMMA1,GAMMA2 = 0,0\n",
    "a = collect(progress((adam!(m,d100);accuracy(m(xtst),ytst)) for i in 1:100))\n",
    "findmax(a)"
   ]
  },
  {
   "cell_type": "code",
   "execution_count": 180,
   "metadata": {
    "scrolled": true
   },
   "outputs": [
    {
     "data": {
      "text/latex": [
       "\\begin{verbatim}\n",
       "goldensection(f,n;kwargs) => (fmin,xmin)\n",
       "\\end{verbatim}\n",
       "Find the minimum of \\texttt{f} using concurrent golden section search in \\texttt{n} dimensions. See \\texttt{Knet.goldensection\\_demo()} for an example.\n",
       "\n",
       "\\texttt{f} is a function from a \\texttt{Vector\\{Float64\\}} of length \\texttt{n} to a \\texttt{Number}.  It can return \\texttt{NaN} for out of range inputs.  Goldensection will always start with a zero vector as the initial input to \\texttt{f}, and the initial step size will be 1 in each dimension.  The user should define \\texttt{f} to scale and shift this input range into a vector meaningful for their application. For positive inputs like learning rate or hidden size, you can use a transformation such as \\texttt{x0*exp(x)} where \\texttt{x} is a value \\texttt{goldensection} passes to \\texttt{f} and \\texttt{x0} is your initial guess for this value. This will effectively start the search at \\texttt{x0}, then move with multiplicative steps.\n",
       "\n",
       "I designed this algorithm combining ideas from \\href{http://apps.nrbook.com/empanel/index.html?pg=492}{Golden Section Search} and \\href{https://en.wikipedia.org/wiki/Hill_climbing}{Hill Climbing Search}. It essentially runs golden section search concurrently in each dimension, picking the next step based on estimated gain.\n",
       "\n",
       "\\section{Keyword arguments}\n",
       "\\begin{itemize}\n",
       "\\item \\texttt{dxmin=0.1}: smallest step size.\n",
       "\n",
       "\n",
       "\\item \\texttt{accel=φ}: acceleration rate. Golden ratio \\texttt{φ=1.618...} is best.\n",
       "\n",
       "\n",
       "\\item \\texttt{verbose=false}: use \\texttt{true} to print individual steps.\n",
       "\n",
       "\n",
       "\\item \\texttt{history=[]}: cache of \\texttt{[(x,f(x)),...]} function evaluations.\n",
       "\n",
       "\\end{itemize}\n"
      ],
      "text/markdown": [
       "```\n",
       "goldensection(f,n;kwargs) => (fmin,xmin)\n",
       "```\n",
       "\n",
       "Find the minimum of `f` using concurrent golden section search in `n` dimensions. See `Knet.goldensection_demo()` for an example.\n",
       "\n",
       "`f` is a function from a `Vector{Float64}` of length `n` to a `Number`.  It can return `NaN` for out of range inputs.  Goldensection will always start with a zero vector as the initial input to `f`, and the initial step size will be 1 in each dimension.  The user should define `f` to scale and shift this input range into a vector meaningful for their application. For positive inputs like learning rate or hidden size, you can use a transformation such as `x0*exp(x)` where `x` is a value `goldensection` passes to `f` and `x0` is your initial guess for this value. This will effectively start the search at `x0`, then move with multiplicative steps.\n",
       "\n",
       "I designed this algorithm combining ideas from [Golden Section Search](http://apps.nrbook.com/empanel/index.html?pg=492) and [Hill Climbing Search](https://en.wikipedia.org/wiki/Hill_climbing). It essentially runs golden section search concurrently in each dimension, picking the next step based on estimated gain.\n",
       "\n",
       "# Keyword arguments\n",
       "\n",
       "  * `dxmin=0.1`: smallest step size.\n",
       "  * `accel=φ`: acceleration rate. Golden ratio `φ=1.618...` is best.\n",
       "  * `verbose=false`: use `true` to print individual steps.\n",
       "  * `history=[]`: cache of `[(x,f(x)),...]` function evaluations.\n"
      ],
      "text/plain": [
       "\u001b[36m  goldensection(f,n;kwargs) => (fmin,xmin)\u001b[39m\n",
       "\n",
       "  Find the minimum of \u001b[36mf\u001b[39m using concurrent golden section search\n",
       "  in \u001b[36mn\u001b[39m dimensions. See \u001b[36mKnet.goldensection_demo()\u001b[39m for an\n",
       "  example.\n",
       "\n",
       "  \u001b[36mf\u001b[39m is a function from a \u001b[36mVector{Float64}\u001b[39m of length \u001b[36mn\u001b[39m to a\n",
       "  \u001b[36mNumber\u001b[39m. It can return \u001b[36mNaN\u001b[39m for out of range inputs.\n",
       "  Goldensection will always start with a zero vector as the\n",
       "  initial input to \u001b[36mf\u001b[39m, and the initial step size will be 1 in\n",
       "  each dimension. The user should define \u001b[36mf\u001b[39m to scale and shift\n",
       "  this input range into a vector meaningful for their\n",
       "  application. For positive inputs like learning rate or\n",
       "  hidden size, you can use a transformation such as \u001b[36mx0*exp(x)\u001b[39m\n",
       "  where \u001b[36mx\u001b[39m is a value \u001b[36mgoldensection\u001b[39m passes to \u001b[36mf\u001b[39m and \u001b[36mx0\u001b[39m is your\n",
       "  initial guess for this value. This will effectively start\n",
       "  the search at \u001b[36mx0\u001b[39m, then move with multiplicative steps.\n",
       "\n",
       "  I designed this algorithm combining ideas from Golden\n",
       "  Section Search\n",
       "  (http://apps.nrbook.com/empanel/index.html?pg=492) and Hill\n",
       "  Climbing Search\n",
       "  (https://en.wikipedia.org/wiki/Hill_climbing). It\n",
       "  essentially runs golden section search concurrently in each\n",
       "  dimension, picking the next step based on estimated gain.\n",
       "\n",
       "\u001b[1m  Keyword arguments\u001b[22m\n",
       "\u001b[1m  ≡≡≡≡≡≡≡≡≡≡≡≡≡≡≡≡≡≡≡\u001b[22m\n",
       "\n",
       "    •    \u001b[36mdxmin=0.1\u001b[39m: smallest step size.\n",
       "\n",
       "    •    \u001b[36maccel=φ\u001b[39m: acceleration rate. Golden ratio\n",
       "        \u001b[36mφ=1.618...\u001b[39m is best.\n",
       "\n",
       "    •    \u001b[36mverbose=false\u001b[39m: use \u001b[36mtrue\u001b[39m to print individual steps.\n",
       "\n",
       "    •    \u001b[36mhistory=[]\u001b[39m: cache of \u001b[36m[(x,f(x)),...]\u001b[39m function\n",
       "        evaluations."
      ]
     },
     "execution_count": 180,
     "metadata": {},
     "output_type": "execute_result"
    }
   ],
   "source": [
    "@doc goldensection"
   ]
  },
  {
   "cell_type": "code",
   "execution_count": 181,
   "metadata": {},
   "outputs": [
    {
     "name": "stdout",
     "output_type": "stream",
     "text": [
      "(0.006737946999085467, 0.006737946999085467, 0.6938, 87)\n",
      "(0.01831563888873418, 0.006737946999085467, 0.6952, 30)\n",
      "(0.01831563888873418, 0.01831563888873418, 0.6974, 61)\n",
      "(0.01831563888873418, 0.09236880077985307, 0.6941, 43)\n",
      "(0.09236880077985307, 0.01831563888873418, 0.6953, 27)\n",
      "(0.01831563888873418, 0.03398058281256863, 0.6993, 53)\n",
      "(0.006737946999085467, 0.03398058281256863, 0.6936, 26)\n",
      "(0.03398058281256863, 0.03398058281256863, 0.6974, 40)\n",
      "(0.012500757815767668, 0.03398058281256863, 0.6975, 45)\n",
      "(0.01831563888873418, 0.049787068367863944, 0.6977, 22)\n",
      "(0.02319236794081144, 0.03398058281256863, 0.6955, 45)\n",
      "(0.015829214397789157, 0.03398058281256863, 0.6984, 50)\n",
      "(0.01831563888873418, 0.026835383330071433, 0.6976, 46)\n",
      "(0.01831563888873418, 0.03931819156550566, 0.6957, 55)\n"
     ]
    },
    {
     "data": {
      "text/plain": [
       "(-0.6993, [1.0, 1.61803])"
      ]
     },
     "execution_count": 181,
     "metadata": {},
     "output_type": "execute_result"
    }
   ],
   "source": [
    "# Experiment 6: find best γ1,γ2 for 100 instances\n",
    "function evalgammas(gammas)\n",
    "    global GAMMA1,GAMMA2\n",
    "    GAMMA1 = exp(gammas[1]-5)\n",
    "    GAMMA2 = exp(gammas[2]-5)\n",
    "    Random.seed!(1)\n",
    "    m = MLP(XSIZE,HSIZE...,YSIZE)\n",
    "    a = [ (adam!(m,d100); accuracy(m(xtst),ytst)) for i in 1:100 ]\n",
    "    println((GAMMA1,GAMMA2,findmax(a)...))\n",
    "    -maximum(a)\n",
    "end\n",
    "\n",
    "# best = (0.01831563888873418, 0.03398058281256863, 0.6993, 53)\n",
    "goldensection(evalgammas,2)"
   ]
  },
  {
   "cell_type": "code",
   "execution_count": 188,
   "metadata": {},
   "outputs": [
    {
     "name": "stdout",
     "output_type": "stream",
     "text": [
      "(4.539992976248485e-5, 4.539992976248485e-5, 0.692, 95)\n",
      "(0.00012340980408667956, 4.539992976248485e-5, 0.6939, 98)\n",
      "(0.00012340980408667956, 0.00012340980408667956, 0.693, 94)\n",
      "(0.0006223760840237344, 4.539992976248485e-5, 0.6899, 97)\n",
      "(0.00022895936598912205, 4.539992976248485e-5, 0.6882, 94)\n",
      "(8.422944361104595e-5, 4.539992976248485e-5, 0.6928, 87)\n",
      "(0.00015626894596847642, 4.539992976248485e-5, 0.6879, 11)\n",
      "(0.00010665640764946391, 4.539992976248485e-5, 0.693, 93)\n",
      "(0.00012340980408667956, 2.4470702097434435e-5, 0.6885, 100)\n",
      "(0.00012340980408667956, 6.651826484109067e-5, 0.6927, 98)\n",
      "(0.00012340980408667956, 3.58535498068023e-5, 0.6879, 21)\n",
      "(0.00012340980408667956, 5.253126896933724e-5, 0.6915, 99)\n"
     ]
    },
    {
     "data": {
      "text/plain": [
       "(-0.6939, [1.0, 0.0])"
      ]
     },
     "execution_count": 188,
     "metadata": {},
     "output_type": "execute_result"
    }
   ],
   "source": [
    "# Experiment 6a: find best γ1,γ2 for 100 instances starting from small gamma\n",
    "## Note: 100 iters do not seem enough for convergence with small gamma.\n",
    "function evalgammas(gammas)\n",
    "    global GAMMA1,GAMMA2\n",
    "    GAMMA1 = exp(gammas[1]-10)\n",
    "    GAMMA2 = exp(gammas[2]-10)\n",
    "    Random.seed!(1)\n",
    "    m = MLP(XSIZE,HSIZE...,YSIZE)\n",
    "    a = [ (adam!(m,d100); accuracy(m(xtst),ytst)) for i in 1:100 ]\n",
    "    println((GAMMA1,GAMMA2,findmax(a)...))\n",
    "    -maximum(a)\n",
    "end\n",
    "\n",
    "# best = (0.00012340980408667956, 4.539992976248485e-5, 0.6939, 98)\n",
    "goldensection(evalgammas,2)"
   ]
  },
  {
   "cell_type": "code",
   "execution_count": 189,
   "metadata": {},
   "outputs": [
    {
     "name": "stdout",
     "output_type": "stream",
     "text": [
      "(1.0, 1.0, 0.6901, 41)\n",
      "(2.718281828459045, 1.0, 0.6563, 36)\n",
      "(1.0, 2.718281828459045, 0.6751, 72)\n",
      "(0.5390030827240446, 1.0, 0.6897, 83)\n",
      "(1.0, 0.5390030827240446, 0.6786, 54)\n",
      "(1.0, 1.465162285252178, 0.6904, 94)\n",
      "(1.465162285252178, 1.465162285252178, 0.6854, 62)\n",
      "(0.78972698844193, 1.465162285252178, 0.6859, 75)\n",
      "(1.1570781991108985, 1.465162285252178, 0.6862, 67)\n",
      "(1.0, 1.8552769586143045, 0.6814, 77)\n",
      "(1.0, 1.2662603844563072, 0.6893, 88)\n"
     ]
    },
    {
     "data": {
      "text/plain": [
       "(-0.6904, [0.0, 0.381966])"
      ]
     },
     "execution_count": 189,
     "metadata": {},
     "output_type": "execute_result"
    }
   ],
   "source": [
    "# Experiment 6b: find best γ1,γ2 for 100 instances starting from large gamma\n",
    "function evalgammas(gammas)\n",
    "    global GAMMA1,GAMMA2\n",
    "    GAMMA1 = exp(gammas[1])\n",
    "    GAMMA2 = exp(gammas[2])\n",
    "    Random.seed!(1)\n",
    "    m = MLP(XSIZE,HSIZE...,YSIZE)\n",
    "    a = [ (adam!(m,d100); accuracy(m(xtst),ytst)) for i in 1:100 ]\n",
    "    println((GAMMA1,GAMMA2,findmax(a)...))\n",
    "    -maximum(a)\n",
    "end\n",
    "\n",
    "# best = (1.0, 1.465162285252178, 0.6904, 94)\n",
    "goldensection(evalgammas,2)"
   ]
  },
  {
   "cell_type": "code",
   "execution_count": 183,
   "metadata": {},
   "outputs": [
    {
     "name": "stdout",
     "output_type": "stream",
     "text": [
      "Dict(7=>117,4=>105,9=>100,10=>97,2=>99,3=>93,5=>92,8=>87,6=>94,1=>116)\n",
      "8.85e-01  100.00%┣██████████████▉┫ 100/100 [05:16/05:16, 3.16s/i]\n"
     ]
    },
    {
     "data": {
      "text/plain": [
       "(0.8885, 13)"
      ]
     },
     "execution_count": 183,
     "metadata": {},
     "output_type": "execute_result"
    }
   ],
   "source": [
    "# Experiment 7: run to convergence with 1000 instances, no regularization\n",
    "Random.seed!(1)\n",
    "d1000 = take(dtrn,1000)\n",
    "countmap([Int(y[1]) for (x,y) in d1000]) |> println\n",
    "m = MLP(XSIZE,HSIZE...,YSIZE)\n",
    "GAMMA1,GAMMA2,UPDATE = 0,0,false\n",
    "a = collect(progress((adam!(m,d1000);accuracy(m(xtst),ytst)) for i in 1:100))\n",
    "UPDATE=true\n",
    "findmax(a)"
   ]
  },
  {
   "cell_type": "code",
   "execution_count": 187,
   "metadata": {},
   "outputs": [
    {
     "name": "stdout",
     "output_type": "stream",
     "text": [
      "(0.01831563888873418, 0.01831563888873418, 0.8774, 23)\n",
      "(0.049787068367863944, 0.01831563888873418, 0.8817, 17)\n",
      "(0.049787068367863944, 0.049787068367863944, 0.8767, 16)\n",
      "(0.2510844326764283, 0.01831563888873418, 0.8771, 9)\n",
      "(0.049787068367863944, 0.009872185823088117, 0.8792, 14)\n",
      "(0.09236880077985307, 0.01831563888873418, 0.8793, 15)\n",
      "(0.049787068367863944, 0.026835383330071433, 0.8791, 18)\n",
      "(0.049787068367863944, 0.01446435434098994, 0.8763, 19)\n",
      "(0.049787068367863944, 0.021192626460942082, 0.876, 10)\n",
      "(0.03398058281256863, 0.01831563888873418, 0.8787, 12)\n",
      "(0.06304339233244385, 0.01831563888873418, 0.8748, 22)\n",
      "(0.043028265856292554, 0.01831563888873418, 0.8784, 18)\n"
     ]
    },
    {
     "data": {
      "text/plain": [
       "(-0.8817, [1.0, 0.0])"
      ]
     },
     "execution_count": 187,
     "metadata": {},
     "output_type": "execute_result"
    }
   ],
   "source": [
    "# Experiment 8: find best γ1,γ2 for 1000 instances\n",
    "function evalgammas(gammas)\n",
    "    global GAMMA1,GAMMA2\n",
    "    GAMMA1 = exp(gammas[1]-4)\n",
    "    GAMMA2 = exp(gammas[2]-4)\n",
    "    Random.seed!(1)\n",
    "    m = MLP(XSIZE,HSIZE...,YSIZE)\n",
    "    a = [ (adam!(m,d1000); accuracy(m(xtst),ytst)) for i in 1:30 ]\n",
    "    println((GAMMA1,GAMMA2,findmax(a)...))\n",
    "    -maximum(a)\n",
    "end\n",
    "\n",
    "# best = (0.049787068367863944, 0.01831563888873418, 0.8817, 17)\n",
    "goldensection(evalgammas,2)"
   ]
  },
  {
   "cell_type": "code",
   "execution_count": 190,
   "metadata": {},
   "outputs": [
    {
     "name": "stdout",
     "output_type": "stream",
     "text": [
      "(1.1253517471925912e-7, 1.1253517471925912e-7, 0.8883, 15)\n",
      "(3.059023205018258e-7, 1.1253517471925912e-7, 0.8885, 14)\n",
      "(3.059023205018258e-7, 3.059023205018258e-7, 0.8875, 14)\n",
      "(3.059023205018258e-7, 6.065680608856974e-8, 0.888, 14)\n",
      "(1.542716072978916e-6, 1.1253517471925912e-7, 0.8875, 14)\n",
      "(3.059023205018258e-7, 1.648822937629228e-7, 0.8873, 16)\n",
      "(3.059023205018258e-7, 8.88720646248269e-8, 0.8889, 14)\n",
      "(3.059023205018258e-7, 7.680731059760373e-8, 0.889, 14)\n",
      "(5.675335268136856e-7, 7.680731059760373e-8, 0.8874, 14)\n",
      "(2.0878391669027646e-7, 7.680731059760373e-8, 0.8882, 15)\n",
      "(3.873519899647185e-7, 7.680731059760373e-8, 0.889, 14)\n",
      "(2.6437480261652313e-7, 7.680731059760373e-8, 0.8883, 15)\n"
     ]
    },
    {
     "data": {
      "text/plain": [
       "(-0.889, [1.0, -0.381966])"
      ]
     },
     "execution_count": 190,
     "metadata": {},
     "output_type": "execute_result"
    }
   ],
   "source": [
    "# Experiment 8a: find best γ1,γ2 for 1000 instances starting from small gamma\n",
    "function evalgammas(gammas)\n",
    "    global GAMMA1,GAMMA2\n",
    "    GAMMA1 = exp(gammas[1]-16)\n",
    "    GAMMA2 = exp(gammas[2]-16)\n",
    "    Random.seed!(1)\n",
    "    m = MLP(XSIZE,HSIZE...,YSIZE)\n",
    "    a = [ (adam!(m,d1000); accuracy(m(xtst),ytst)) for i in 1:30 ]\n",
    "    println((GAMMA1,GAMMA2,findmax(a)...))\n",
    "    -maximum(a)\n",
    "end\n",
    "\n",
    "# best = (3.873519899647185e-7, 7.680731059760373e-8, 0.889, 14)\n",
    "goldensection(evalgammas,2)"
   ]
  },
  {
   "cell_type": "code",
   "execution_count": 194,
   "metadata": {},
   "outputs": [
    {
     "name": "stdout",
     "output_type": "stream",
     "text": [
      "(n = 32, γ = 0, acc = 0.5578)\n",
      "(n = 32, γ = 0.01, acc = 0.5632)\n",
      "(n = 64, γ = 0, acc = 0.6832)\n",
      "(n = 64, γ = 0.01, acc = 0.6837)\n",
      "(n = 128, γ = 0, acc = 0.7236)\n",
      "(n = 128, γ = 0.01, acc = 0.7237)\n",
      "(n = 256, γ = 0, acc = 0.798)\n",
      "(n = 256, γ = 0.01, acc = 0.7995)\n",
      "(n = 512, γ = 0, acc = 0.8546)\n",
      "(n = 512, γ = 0.01, acc = 0.8507)\n",
      "\n",
      "Stacktrace:\n",
      " [1] \u001b[1mthrow_complex_domainerror\u001b[22m\u001b[1m(\u001b[22m::Symbol, ::Float64\u001b[1m)\u001b[22m at \u001b[1m./math.jl:31\u001b[22m\n",
      " [2] \u001b[1mlog\u001b[22m\u001b[1m(\u001b[22m::Float64\u001b[1m)\u001b[22m at \u001b[1m./special/log.jl:285\u001b[22m\n",
      " [3] \u001b[1mlogdet\u001b[22m\u001b[1m(\u001b[22m::Array{Float64,2}\u001b[1m)\u001b[22m at \u001b[1m/buildworker/worker/package_linux64/build/usr/share/julia/stdlib/v1.1/LinearAlgebra/src/generic.jl:1336\u001b[22m\n",
      " [4] \u001b[1m#sumlogdet#529\u001b[22m\u001b[1m(\u001b[22m::Float64, ::Float64, ::Bool, ::Function, ::Array{Float64,2}, ::Array{UInt8,1}, ::MLP\u001b[1m)\u001b[22m at \u001b[1m./In[122]:15\u001b[22m\n",
      " [5] \u001b[1msumlogdet\u001b[22m\u001b[1m(\u001b[22m::Array{Float64,2}, ::Array{UInt8,1}, ::MLP\u001b[1m)\u001b[22m at \u001b[1m./In[122]:5\u001b[22m\n",
      " [6] \u001b[1m#forw#1\u001b[22m\u001b[1m(\u001b[22m::Base.Iterators.Pairs{Union{},Union{},Tuple{},NamedTuple{(),Tuple{}}}, ::Function, ::Function, ::AutoGrad.Result{Array{Float64,2}}, ::Vararg{Any,N} where N\u001b[1m)\u001b[22m at \u001b[1m/home/ec2-user/.julia/dev/AutoGrad/src/core.jl:66\u001b[22m\n",
      " [7] \u001b[1mforw\u001b[22m at \u001b[1m/home/ec2-user/.julia/dev/AutoGrad/src/core.jl:65\u001b[22m [inlined]\n",
      " [8] \u001b[1m#sumlogdet#554\u001b[22m at \u001b[1m./none:0\u001b[22m [inlined]\n",
      " [9] \u001b[1msumlogdet\u001b[22m\u001b[1m(\u001b[22m::AutoGrad.Result{Array{Float64,2}}, ::Array{UInt8,1}, ::MLP\u001b[1m)\u001b[22m at \u001b[1m./none:0\u001b[22m\n",
      " [10] \u001b[1m#call#528\u001b[22m\u001b[1m(\u001b[22m::Int64, ::Int64, ::MLP, ::Array{Float64,4}, ::Array{UInt8,1}\u001b[1m)\u001b[22m at \u001b[1m./In[121]:19\u001b[22m\n",
      " [11] \u001b[1m(::MLP)\u001b[22m\u001b[1m(\u001b[22m::Array{Float64,4}, ::Array{UInt8,1}\u001b[1m)\u001b[22m at \u001b[1m./In[121]:15\u001b[22m\n",
      " [12] \u001b[1m(::getfield(Knet, Symbol(\"##664#665\")){Knet.Minimize{Base.Iterators.Take{Knet.Data{Tuple{Array{Float64,4},Array{UInt8,1}}}}},Tuple{Array{Float64,4},Array{UInt8,1}}})\u001b[22m\u001b[1m(\u001b[22m\u001b[1m)\u001b[22m at \u001b[1m/home/ec2-user/.julia/dev/AutoGrad/src/core.jl:197\u001b[22m\n",
      " [13] \u001b[1m#differentiate#3\u001b[22m\u001b[1m(\u001b[22m::Base.Iterators.Pairs{Union{},Union{},Tuple{},NamedTuple{(),Tuple{}}}, ::Function, ::Function\u001b[1m)\u001b[22m at \u001b[1m/home/ec2-user/.julia/dev/AutoGrad/src/core.jl:144\u001b[22m\n",
      " [14] \u001b[1mdifferentiate\u001b[22m\u001b[1m(\u001b[22m::Function\u001b[1m)\u001b[22m at \u001b[1m/home/ec2-user/.julia/dev/AutoGrad/src/core.jl:135\u001b[22m\n",
      " [15] \u001b[1miterate\u001b[22m\u001b[1m(\u001b[22m::Knet.Minimize{Base.Iterators.Take{Knet.Data{Tuple{Array{Float64,4},Array{UInt8,1}}}}}, ::Tuple{Int64,Int64}\u001b[1m)\u001b[22m at \u001b[1m/home/ec2-user/.julia/dev/Knet/src/train.jl:24\u001b[22m\n",
      " [16] \u001b[1m#adam!#773\u001b[22m\u001b[1m(\u001b[22m::Base.Iterators.Pairs{Union{},Union{},Tuple{},NamedTuple{(),Tuple{}}}, ::Function, ::MLP, ::Vararg{Any,N} where N\u001b[1m)\u001b[22m at \u001b[1m/home/ec2-user/.julia/dev/Knet/src/update.jl:409\u001b[22m\n",
      " [17] \u001b[1madam!\u001b[22m\u001b[1m(\u001b[22m::MLP, ::Vararg{Any,N} where N\u001b[1m)\u001b[22m at \u001b[1m/home/ec2-user/.julia/dev/Knet/src/update.jl:409\u001b[22m\n",
      " [18] \u001b[1m(::getfield(Main, Symbol(\"##671#672\")){Base.Iterators.Take{Knet.Data{Tuple{Array{Float64,4},Array{UInt8,1}}}}})\u001b[22m\u001b[1m(\u001b[22m::Int64\u001b[1m)\u001b[22m at \u001b[1m./none:0\u001b[22m\n",
      " [19] \u001b[1miterate\u001b[22m at \u001b[1m./generator.jl:47\u001b[22m [inlined]\n",
      " [20] \u001b[1mcollect_to!\u001b[22m\u001b[1m(\u001b[22m::Array{Float64,1}, ::Base.Generator{UnitRange{Int64},getfield(Main, Symbol(\"##671#672\")){Base.Iterators.Take{Knet.Data{Tuple{Array{Float64,4},Array{UInt8,1}}}}}}, ::Int64, ::Int64\u001b[1m)\u001b[22m at \u001b[1m./array.jl:651\u001b[22m\n",
      " [21] \u001b[1mcollect_to_with_first!\u001b[22m\u001b[1m(\u001b[22m::Array{Float64,1}, ::Float64, ::Base.Generator{UnitRange{Int64},getfield(Main, Symbol(\"##671#672\")){Base.Iterators.Take{Knet.Data{Tuple{Array{Float64,4},Array{UInt8,1}}}}}}, ::Int64\u001b[1m)\u001b[22m at \u001b[1m./array.jl:630\u001b[22m\n",
      " [22] \u001b[1mcollect\u001b[22m\u001b[1m(\u001b[22m::Base.Generator{UnitRange{Int64},getfield(Main, Symbol(\"##671#672\")){Base.Iterators.Take{Knet.Data{Tuple{Array{Float64,4},Array{UInt8,1}}}}}}\u001b[1m)\u001b[22m at \u001b[1m./array.jl:611\u001b[22m\n",
      " [23] top-level scope at \u001b[1mIn[194]:10\u001b[22m\n",
      " [24] \u001b[1meval\u001b[22m at \u001b[1m./boot.jl:328\u001b[22m [inlined]\n",
      " [25] \u001b[1msoftscope_include_string\u001b[22m\u001b[1m(\u001b[22m::Module, ::String, ::String\u001b[1m)\u001b[22m at \u001b[1m/home/ec2-user/.julia/packages/SoftGlobalScope/cSbw5/src/SoftGlobalScope.jl:218\u001b[22m\n",
      " [26] \u001b[1mexecute_request\u001b[22m\u001b[1m(\u001b[22m::ZMQ.Socket, ::IJulia.Msg\u001b[1m)\u001b[22m at \u001b[1m/home/ec2-user/.julia/packages/IJulia/gI2uA/src/execute_request.jl:67\u001b[22m\n",
      " [27] \u001b[1m#invokelatest#1\u001b[22m at \u001b[1m./essentials.jl:742\u001b[22m [inlined]\n",
      " [28] \u001b[1minvokelatest\u001b[22m at \u001b[1m./essentials.jl:741\u001b[22m [inlined]\n",
      " [29] \u001b[1meventloop\u001b[22m\u001b[1m(\u001b[22m::ZMQ.Socket\u001b[1m)\u001b[22m at \u001b[1m/home/ec2-user/.julia/packages/IJulia/gI2uA/src/eventloop.jl:8\u001b[22m\n",
      " [30] \u001b[1m(::getfield(IJulia, Symbol(\"##15#18\")))\u001b[22m\u001b[1m(\u001b[22m\u001b[1m)\u001b[22m at \u001b[1m./task.jl:259\u001b[22m\n"
     ]
    },
    {
     "ename": "DomainError",
     "evalue": "DomainError with -1.0:\nlog will only return a complex result if called with a complex argument. Try log(Complex(x)).",
     "output_type": "error",
     "traceback": [
      "DomainError with -1.0:\nlog will only return a complex result if called with a complex argument. Try log(Complex(x)).",
      "",
      "Stacktrace:",
      " [1] #differentiate#3(::Base.Iterators.Pairs{Union{},Union{},Tuple{},NamedTuple{(),Tuple{}}}, ::Function, ::Function) at /home/ec2-user/.julia/dev/AutoGrad/src/core.jl:148",
      " [2] differentiate(::Function) at /home/ec2-user/.julia/dev/AutoGrad/src/core.jl:135",
      " [3] iterate(::Knet.Minimize{Base.Iterators.Take{Knet.Data{Tuple{Array{Float64,4},Array{UInt8,1}}}}}, ::Tuple{Int64,Int64}) at /home/ec2-user/.julia/dev/Knet/src/train.jl:24",
      " [4] #adam!#773(::Base.Iterators.Pairs{Union{},Union{},Tuple{},NamedTuple{(),Tuple{}}}, ::Function, ::MLP, ::Vararg{Any,N} where N) at /home/ec2-user/.julia/dev/Knet/src/update.jl:409",
      " [5] adam!(::MLP, ::Vararg{Any,N} where N) at /home/ec2-user/.julia/dev/Knet/src/update.jl:409",
      " [6] (::getfield(Main, Symbol(\"##671#672\")){Base.Iterators.Take{Knet.Data{Tuple{Array{Float64,4},Array{UInt8,1}}}}})(::Int64) at ./none:0",
      " [7] iterate at ./generator.jl:47 [inlined]",
      " [8] collect_to!(::Array{Float64,1}, ::Base.Generator{UnitRange{Int64},getfield(Main, Symbol(\"##671#672\")){Base.Iterators.Take{Knet.Data{Tuple{Array{Float64,4},Array{UInt8,1}}}}}}, ::Int64, ::Int64) at ./array.jl:651",
      " [9] collect_to_with_first!(::Array{Float64,1}, ::Float64, ::Base.Generator{UnitRange{Int64},getfield(Main, Symbol(\"##671#672\")){Base.Iterators.Take{Knet.Data{Tuple{Array{Float64,4},Array{UInt8,1}}}}}}, ::Int64) at ./array.jl:630",
      " [10] collect(::Base.Generator{UnitRange{Int64},getfield(Main, Symbol(\"##671#672\")){Base.Iterators.Take{Knet.Data{Tuple{Array{Float64,4},Array{UInt8,1}}}}}}) at ./array.jl:611",
      " [11] top-level scope at In[194]:10"
     ]
    }
   ],
   "source": [
    "# Experiment 9: compute learning curve\n",
    "# Hyperparameter optimization failed, using γ1=γ2=0.01 as default\n",
    "# Compare with/without regularization for various dataset sizes\n",
    "# 1. Regularization has a slight advantage for small sizes (may be more significant with hyperparam optimization)\n",
    "# 2. The advantage reduces, disappears as dataset size gets bigger\n",
    "# 3. We get a negative log problem at n=1024\n",
    "results9 = Dict()\n",
    "for p in 5:15, g in (0,0.01)\n",
    "    data = take(dtrn,2^p)\n",
    "    GAMMA1 = GAMMA2 = g\n",
    "    Random.seed!(1)\n",
    "    m = MLP(XSIZE,HSIZE...,YSIZE)\n",
    "    a = [ (adam!(m,data); accuracy(m(xtst),ytst)) for i in 1:100 ]\n",
    "    println((n=2^p,γ=g,acc=maximum(a)))\n",
    "    results9[(n=2^p,γ=g)] = a\n",
    "end"
   ]
  },
  {
   "cell_type": "code",
   "execution_count": 195,
   "metadata": {},
   "outputs": [],
   "source": [
    "#= Learning curve:\n",
    "(n = 32, γ = 0, acc = 0.5578)\n",
    "(n = 32, γ = 0.01, acc = 0.5632)\n",
    "(n = 64, γ = 0, acc = 0.6832)\n",
    "(n = 64, γ = 0.01, acc = 0.6837)\n",
    "(n = 128, γ = 0, acc = 0.7236)\n",
    "(n = 128, γ = 0.01, acc = 0.7237)\n",
    "(n = 256, γ = 0, acc = 0.798)\n",
    "(n = 256, γ = 0.01, acc = 0.7995)\n",
    "(n = 512, γ = 0, acc = 0.8546)\n",
    "(n = 512, γ = 0.01, acc = 0.8507)\n",
    "=#"
   ]
  },
  {
   "cell_type": "code",
   "execution_count": 200,
   "metadata": {},
   "outputs": [
    {
     "name": "stdout",
     "output_type": "stream",
     "text": [
      "9.55e-01  100.00%┣█████████████████┫ 60/60 [04:04/04:04, 4.07s/i]\n"
     ]
    },
    {
     "data": {
      "text/plain": [
       "60-element Array{Float64,1}:\n",
       " 0.8507\n",
       " 0.8802\n",
       " 0.893 \n",
       " 0.8963\n",
       " 0.9023\n",
       " 0.9029\n",
       " 0.9087\n",
       " 0.9214\n",
       " 0.9135\n",
       " 0.9283\n",
       " 0.9229\n",
       " 0.9178\n",
       " 0.9351\n",
       " ⋮     \n",
       " 0.9391\n",
       " 0.9518\n",
       " 0.9598\n",
       " 0.9606\n",
       " 0.9601\n",
       " 0.9562\n",
       " 0.9547\n",
       " 0.9605\n",
       " 0.9518\n",
       " 0.956 \n",
       " 0.9493\n",
       " 0.9547"
      ]
     },
     "execution_count": 200,
     "metadata": {},
     "output_type": "execute_result"
    }
   ],
   "source": [
    "# Experiment 10: Compute training curve with no regularization\n",
    "Random.seed!(1)\n",
    "EPOCHS, TESTFREQ = 1, 1000\n",
    "GAMMA1, GAMMA2, UPDATE = 0, 0, false\n",
    "m0 = MLP(XSIZE,HSIZE...,YSIZE)\n",
    "r0 = collect(progress(accuracy(m0(xtst),ytst) for z in \n",
    "             takenth(adam(m0,repeat(dtrn,EPOCHS)),TESTFREQ)));"
   ]
  },
  {
   "cell_type": "code",
   "execution_count": 201,
   "metadata": {},
   "outputs": [
    {
     "name": "stdout",
     "output_type": "stream",
     "text": [
      "9.51e-01  100.00%┣█████████████████┫ 60/60 [04:02/04:02, 4.04s/i]\n"
     ]
    },
    {
     "data": {
      "text/plain": [
       "60-element Array{Float64,1}:\n",
       " 0.8483\n",
       " 0.8783\n",
       " 0.8841\n",
       " 0.8974\n",
       " 0.8998\n",
       " 0.9069\n",
       " 0.9049\n",
       " 0.9212\n",
       " 0.9187\n",
       " 0.9303\n",
       " 0.9244\n",
       " 0.924 \n",
       " 0.9325\n",
       " ⋮     \n",
       " 0.9514\n",
       " 0.9562\n",
       " 0.9597\n",
       " 0.9642\n",
       " 0.9552\n",
       " 0.9568\n",
       " 0.9531\n",
       " 0.9542\n",
       " 0.9563\n",
       " 0.9563\n",
       " 0.946 \n",
       " 0.9506"
      ]
     },
     "execution_count": 201,
     "metadata": {},
     "output_type": "execute_result"
    }
   ],
   "source": [
    "# Experiment 11: Compute training curve with regularization\n",
    "Random.seed!(1)\n",
    "EPOCHS, TESTFREQ = 1, 1000\n",
    "GAMMA1, GAMMA2, UPDATE = 0.01, 0.01, true\n",
    "m1 = MLP(XSIZE,HSIZE...,YSIZE)\n",
    "r1 = collect(progress(accuracy(m1(xtst),ytst) for z in \n",
    "             takenth(adam(m1,repeat(dtrn,EPOCHS)),TESTFREQ)));"
   ]
  },
  {
   "cell_type": "code",
   "execution_count": 207,
   "metadata": {},
   "outputs": [
    {
     "name": "stdout",
     "output_type": "stream",
     "text": [
      "9.49e-01  100.00%┣█████████████████┫ 60/60 [04:25/04:25, 4.42s/i]\n"
     ]
    }
   ],
   "source": [
    "# Experiment 12: Compute training curve with regularization after an initial period\n",
    "Random.seed!(1)\n",
    "EPOCHS, TESTFREQ = 1, 1000\n",
    "GAMMA1, GAMMA2, UPDATE = 0, 0, false\n",
    "m2 = MLP(XSIZE,HSIZE...,YSIZE)\n",
    "r2 = collect(progress(\n",
    "        (a=accuracy(m2(xtst),ytst); if a>0.9; global GAMMA1,GAMMA2,UPDATE=0.01,0.01,true; end; a)\n",
    "        for z in takenth(adam(m2,repeat(dtrn,EPOCHS)),TESTFREQ)));"
   ]
  },
  {
   "cell_type": "code",
   "execution_count": 212,
   "metadata": {},
   "outputs": [
    {
     "data": {
      "image/png": "[encoded data removed]"
     },
     "execution_count": 212,
     "metadata": {},
     "output_type": "execute_result"
    }
   ],
   "source": [
    "# Plot training curves\n",
    "Plots.default(fmt=:png,ls=:auto,legend=:bottomright)\n",
    "plot([r0 r1 r2])"
   ]
  },
  {
   "cell_type": "code",
   "execution_count": null,
   "metadata": {},
   "outputs": [],
   "source": []
  }
 ],
 "metadata": {
  "@webio": {
   "lastCommId": null,
   "lastKernelId": null
  },
  "kernelspec": {
   "display_name": "Julia 1.1.0",
   "language": "julia",
   "name": "julia-1.1"
  },
  "language_info": {
   "file_extension": ".jl",
   "mimetype": "application/julia",
   "name": "julia",
   "version": "1.1.0"
  }
 },
 "nbformat": 4,
 "nbformat_minor": 2
}
