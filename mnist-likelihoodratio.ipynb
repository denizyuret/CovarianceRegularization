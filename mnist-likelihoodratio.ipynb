{
 "cells": [
  {
   "cell_type": "code",
   "execution_count": 1,
   "metadata": {},
   "outputs": [],
   "source": [
    "# Packages\n",
    "using Knet, AutoGrad, LinearAlgebra, Base.Iterators, Statistics, Random, StatsBase, IterTools, Plots"
   ]
  },
  {
   "cell_type": "code",
   "execution_count": 2,
   "metadata": {},
   "outputs": [
    {
     "data": {
      "text/plain": [
       "0.0001"
      ]
     },
     "execution_count": 2,
     "metadata": {},
     "output_type": "execute_result"
    }
   ],
   "source": [
    "# Constants\n",
    "ENV[\"COLUMNS\"] = 64\n",
    "ARRAY=Array{Float64} # KnetArray{Float32}\n",
    "UPDATE=true # keep this true (false only useful for checking gradients)\n",
    "BSIZE=1     # keep batchsize=1 until larger ones supported\n",
    "XSIZE=28*28\n",
    "YSIZE=10\n",
    "HSIZE=[64]\n",
    "ALPHA=100.0\n",
    "GAMMA=0.1\n",
    "LAMBDA=0.995\n",
    "ETA=0.1\n",
    "MU0=0.0001"
   ]
  },
  {
   "cell_type": "code",
   "execution_count": 3,
   "metadata": {},
   "outputs": [
    {
     "name": "stderr",
     "output_type": "stream",
     "text": [
      "┌ Info: Loading MNIST...\n",
      "└ @ Main /home/deniz/.julia/dev/Knet/data/mnist.jl:33\n"
     ]
    }
   ],
   "source": [
    "# Load minibatched MNIST data:\n",
    "include(Knet.dir(\"data\",\"mnist.jl\"))\n",
    "dtrn, dtst = mnistdata(xtype=ARRAY, batchsize=BSIZE)\n",
    "xtrn, ytrn, xtst, ytst = mnist()\n",
    "xtrn = ARRAY(reshape(xtrn,(XSIZE,:)))\n",
    "xtst = ARRAY(reshape(xtst,(XSIZE,:)));"
   ]
  },
  {
   "cell_type": "code",
   "execution_count": 4,
   "metadata": {},
   "outputs": [],
   "source": [
    "# Model definition and initialization\n",
    "struct MLP; W; b; μ; B; ∇g;\n",
    "    function MLP(dims...;α=ALPHA)\n",
    "        h,o = dims[end-1:end]\n",
    "        W = initw.(dims[1:end-1],dims[2:end])\n",
    "        b = initb.(dims[2:end])\n",
    "        μ = initμ(h,o)\n",
    "        B = initB(h,o;α=α)\n",
    "        ∇g = init∇g(h)\n",
    "        new(W, b, μ, B, ∇g)\n",
    "    end\n",
    "end\n",
    "\n",
    "initw(i,o)=Param(ARRAY(xavier(o,i)))\n",
    "initb(o)=Param(ARRAY(zeros(o)))\n",
    "initμ(h,o)=ARRAY(MU0*randn(h,o))\n",
    "initB(h,o;α=ALPHA)=(B = zeros(h,h,o); for i in 1:o, j in 1:h; B[j,j,i] = α; end; ARRAY(B))\n",
    "init∇g(h)=ARRAY(zeros(h))\n",
    "\n",
    "Base.show(io::IO, m::MLP)=print(IOContext(io,:compact=>true), \"MLP\", (size(m.W[1],2),length.(m.b)...))"
   ]
  },
  {
   "cell_type": "code",
   "execution_count": 5,
   "metadata": {},
   "outputs": [],
   "source": [
    "# Featurevec, predict and loss functions\n",
    "function featurevector(m::MLP,x)\n",
    "    L,y = length(m.W),mat(x)\n",
    "    for l in 1:L-1\n",
    "        y = relu.(m.b[l] .+ m.W[l] * y)\n",
    "    end\n",
    "    return y\n",
    "end\n",
    "\n",
    "function (m::MLP)(x) # predict\n",
    "    m.b[end] .+ m.W[end] * featurevector(m,x)\n",
    "end\n",
    "\n",
    "function (m::MLP)(x,labels;γ=GAMMA) # loss\n",
    "    @assert length(labels)==1 \"Batchsize > 1 not implemented yet.\"\n",
    "    yfeat = featurevector(m,x)\n",
    "    ypred = m.b[end] .+ m.W[end] * yfeat\n",
    "    J = nll(ypred,labels)\n",
    "    g = likelihoodratio(yfeat,labels,m)\n",
    "    return J + γ * g\n",
    "end"
   ]
  },
  {
   "cell_type": "code",
   "execution_count": 6,
   "metadata": {},
   "outputs": [],
   "source": [
    "function likelihoodratio(y,labels,m; λ=LAMBDA, η=ETA, update=UPDATE)\n",
    "    y = vec(y)\n",
    "    M = size(m.μ,2)\n",
    "    β = labels[1]     # β(n) class label for the nth sample\n",
    "    μᵦ₀ = m.μ[:,β]    # μ[β(n)](n-1) exponentially weighted mean of class β(n) before the nth sample\n",
    "    Bᵦ₀ = m.B[:,:,β]  # B[β(n)](n-1) exponentially weighted inverse covariance matrix of class β(n) before the nth sample\n",
    "    μᵦ₁  = λ * μᵦ₀ + (1-λ) * y\n",
    "    y₀ = y - μᵦ₀      # ybar[L-1](n) the centralized feature vector\n",
    "    y₁ = y - μᵦ₁      # ybar[L-1](n) the centralized feature vector\n",
    "    z = Bᵦ₀ * y₀      # unscaled gradient\n",
    "    ξ = 1 / ((1/(1-λ)) + (y₀' * Bᵦ₀ * y₀))  # gradient scaling\n",
    "    A = (1/λ)*(Bᵦ₀ - z*z'*ξ)\n",
    "    Bᵦ₁ = A-(1-λ)*η*A*A/(1+(1-λ)*η*tr(A))  # updated inverse covariance matrix  \n",
    "    q=Bᵦ₁*y₁\n",
    "    α=(y₁' * Bᵦ₁ * y₁)\n",
    "    g=-1/2*logdet(Bᵦ₁)+1/2*α\n",
    "    ∇g=(1-λ)*(1-α)*q+λ^2*Bᵦ₁*y₀\n",
    "    for j=1:M \n",
    "        if (j!=β)\n",
    "            μⱼ=m.μ[:,j]\n",
    "            Bⱼ=m.B[:,:,j]\n",
    "            ∇g+=-1/(M-1)*(Bⱼ*(y-μⱼ))\n",
    "            αⱼ=((y-μⱼ)'*Bⱼ*(y-μⱼ))\n",
    "            g+=1/(M-1)*(1/2*logdet(Bⱼ)-1/2*αⱼ)\n",
    "        end\n",
    "    end\n",
    "            \n",
    "    if training()  # Store ∇g if differentiating\n",
    "        m.∇g .= ∇g\n",
    "    end\n",
    "    \n",
    "    if update      # Update state if specified\n",
    "        m.B[:,:,β] .= Bᵦ₁\n",
    "        m.μ[:,β] .= μᵦ₁\n",
    "    end\n",
    "\n",
    "    return g\n",
    "end\n",
    "\n",
    "@primitive likelihoodratio(y,l,m;o...),dy  dy*m.∇g"
   ]
  },
  {
   "cell_type": "code",
   "execution_count": 7,
   "metadata": {},
   "outputs": [
    {
     "data": {
      "text/plain": [
       "summ (generic function with 1 method)"
      ]
     },
     "execution_count": 7,
     "metadata": {},
     "output_type": "execute_result"
    }
   ],
   "source": [
    "# Macro for debugging\n",
    "macro summ(exs...)\n",
    "    blk = Expr(:block)\n",
    "    for ex in exs\n",
    "        push!(blk.args, :(println($(sprint(Base.show_unquoted,ex)*\" = \"),\n",
    "                                  summ(begin value=$(esc(ex)) end))))\n",
    "    end\n",
    "    isempty(exs) || push!(blk.args, :value)\n",
    "    return blk\n",
    "end\n",
    "summ(x)=(isbits(x) || isa(x,String) || isa(x,Symbol) ? repr(x) : summary(x))\n",
    "#macro summ(exs...); esc(exs[1]); end"
   ]
  },
  {
   "cell_type": "code",
   "execution_count": 8,
   "metadata": {},
   "outputs": [
    {
     "name": "stdout",
     "output_type": "stream",
     "text": [
      "x = 28×28×1×1 Array{Float64,4}\n",
      "labels = UInt8[0x05]\n",
      "y = featurevector(m, x) = 64×1 Array{Float64,2}\n",
      "scores = m(x) = 10×1 Array{Float64,2}\n",
      "J = nll(scores, labels) = 2.420912262686651\n",
      "g = likelihoodratio(y, labels, m) = -112.31648751378538\n",
      "J + GAMMA * g = -8.810736488691887\n",
      "m(x, labels) = -8.810736488691887\n"
     ]
    }
   ],
   "source": [
    "# Experiment 1: check model functions\n",
    "UPDATE=false\n",
    "(x,labels) = first(dtrn)\n",
    "m = MLP(XSIZE,HSIZE...,YSIZE)\n",
    "@summ x\n",
    "@show labels\n",
    "@summ y = featurevector(m,x)\n",
    "@summ scores = m(x)\n",
    "@summ J=nll(scores,labels)\n",
    "@summ g=likelihoodratio(y,labels,m)\n",
    "@summ J + GAMMA * g\n",
    "@summ m(x,labels)\n",
    "UPDATE=true;"
   ]
  },
  {
   "cell_type": "code",
   "execution_count": 9,
   "metadata": {},
   "outputs": [
    {
     "name": "stdout",
     "output_type": "stream",
     "text": [
      "#= In[9]:8 =# @gcheck(likelihoodratio(py, labels, m)) = true\n",
      "#= In[9]:9 =# @gcheck(nll(m(x), labels)) = true\n",
      "#= In[9]:10 =# @gcheck(m(x, labels)) = true\n"
     ]
    },
    {
     "data": {
      "text/plain": [
       "true"
      ]
     },
     "execution_count": 9,
     "metadata": {},
     "output_type": "execute_result"
    }
   ],
   "source": [
    "# Experiment 2: check gradients\n",
    "using AutoGrad: @gcheck, gcheck\n",
    "(x,labels) = first(dtrn)\n",
    "m = MLP(XSIZE,HSIZE...,YSIZE)\n",
    "y = featurevector(m,x)\n",
    "py = Param(y)\n",
    "UPDATE=false\n",
    "@show @gcheck likelihoodratio(py,labels,m)\n",
    "@show @gcheck nll(m(x),labels)\n",
    "@show @gcheck m(x,labels)\n",
    "UPDATE=true"
   ]
  },
  {
   "cell_type": "code",
   "execution_count": 12,
   "metadata": {},
   "outputs": [
    {
     "name": "stdout",
     "output_type": "stream",
     "text": [
      "-1.27e+02  100.00%┣████████┫ 10000/10000 [00:55/00:55, 182.31i/s]\n"
     ]
    },
    {
     "data": {
      "text/plain": [
       "(acc = 0.7902, nll = 2.0049444743110225)"
      ]
     },
     "execution_count": 12,
     "metadata": {},
     "output_type": "execute_result"
    }
   ],
   "source": [
    "# Experiment 3: train one epoch with regularization\n",
    "Random.seed!(1)\n",
    "m = MLP(XSIZE,HSIZE...,YSIZE)\n",
    "GAMMA=0.1\n",
    "progress!(adam(m,dtst))\n",
    "(acc=accuracy(m,dtst),nll=nll(m(xtst),ytst))"
   ]
  },
  {
   "cell_type": "code",
   "execution_count": 13,
   "metadata": {},
   "outputs": [
    {
     "name": "stdout",
     "output_type": "stream",
     "text": [
      "2.56e-05  100.00%┣█████████┫ 10000/10000 [01:02/01:02, 162.40i/s]\n"
     ]
    },
    {
     "data": {
      "text/plain": [
       "(acc = 0.9198, nll = 0.2600133985319897)"
      ]
     },
     "execution_count": 13,
     "metadata": {},
     "output_type": "execute_result"
    }
   ],
   "source": [
    "# Experiment 4: train one epoch without regularization\n",
    "Random.seed!(1)\n",
    "m = MLP(XSIZE,HSIZE...,YSIZE)\n",
    "GAMMA = 0\n",
    "progress!(adam(m,dtst))\n",
    "(acc=accuracy(m,dtst),nll=nll(m(xtst),ytst))"
   ]
  },
  {
   "cell_type": "code",
   "execution_count": null,
   "metadata": {},
   "outputs": [],
   "source": [
    "# Experiment 5: run to convergence with 100 instances\n",
    "Random.seed!(1)\n",
    "d100 = take(dtrn,100)\n",
    "countmap([Int(y[1]) for (x,y) in d100]) |> println # make sure labels are balanced\n",
    "for γ in (0,0.00001,0.0001,0.001,0.01,0.1,1.0,10.0,100.0,1000.0,10000.0)\n",
    "    GAMMA = γ\n",
    "    m = MLP(XSIZE,HSIZE...,YSIZE)\n",
    "    a = collect(progress((adam!(m,d100);accuracy(m(xtst),ytst)) for i in 1:100))\n",
    "    fmax,imax = findmax(a)\n",
    "    println((γ=γ,acc=fmax,iter=imax))\n",
    "end"
   ]
  },
  {
   "cell_type": "code",
   "execution_count": null,
   "metadata": {},
   "outputs": [],
   "source": [
    "#= best gamma = 0.0001 for 100 instances:\n",
    "(γ = 0, acc = 0.689, iter = 21)\n",
    "(γ = 1.0e-5, acc = 0.6877, iter = 18)\n",
    "(γ = 0.0001, acc = 0.6937, iter = 42)\n",
    "(γ = 0.001, acc = 0.6841, iter = 17)\n",
    "(γ = 0.01, acc = 0.6812, iter = 6)\n",
    "(γ = 0.1, acc = 0.6585, iter = 4)\n",
    "(γ = 1.0, acc = 0.6413, iter = 2)\n",
    "=#"
   ]
  },
  {
   "cell_type": "code",
   "execution_count": null,
   "metadata": {},
   "outputs": [],
   "source": [
    "# Experiment 9: compute learning curve\n",
    "results9 = Dict()\n",
    "for p in 5:15, g in (0,0.0001)\n",
    "    data = take(dtrn,2^p)\n",
    "    GAMMA = g\n",
    "    Random.seed!(1)\n",
    "    m = MLP(XSIZE,HSIZE...,YSIZE)\n",
    "    a = [ (adam!(m,data); accuracy(m(xtst),ytst)) for i in 1:100 ]\n",
    "    println((n=2^p,γ=g,acc=maximum(a)))\n",
    "    results9[(n=2^p,γ=g)] = a\n",
    "end"
   ]
  },
  {
   "cell_type": "code",
   "execution_count": 18,
   "metadata": {},
   "outputs": [],
   "source": [
    "#= Learning curve:\n",
    "(n = 32, γ = 0, acc = 0.5578)\n",
    "(n = 32, γ = 0.0001, acc = 0.5573)\n",
    "(n = 64, γ = 0, acc = 0.6832)\n",
    "(n = 64, γ = 0.0001, acc = 0.684)\n",
    "(n = 128, γ = 0, acc = 0.7236)\n",
    "(n = 128, γ = 0.0001, acc = 0.7236)\n",
    "(n = 256, γ = 0, acc = 0.798)\n",
    "(n = 256, γ = 0.0001, acc = 0.7965)\n",
    "(n = 512, γ = 0, acc = 0.8546)\n",
    "(n = 512, γ = 0.0001, acc = 0.8491)\n",
    "(n = 1024, γ = 0, acc = 0.8887)\n",
    "=#"
   ]
  },
  {
   "cell_type": "code",
   "execution_count": 19,
   "metadata": {},
   "outputs": [
    {
     "name": "stdout",
     "output_type": "stream",
     "text": [
      "9.55e-01  100.00%┣█████████████████┫ 60/60 [07:15/07:15, 7.26s/i]\n"
     ]
    }
   ],
   "source": [
    "# Experiment 10: Compute training curve with no regularization\n",
    "Random.seed!(1)\n",
    "EPOCHS, TESTFREQ = 1, 1000\n",
    "GAMMA, UPDATE = 0, false\n",
    "m0 = MLP(XSIZE,HSIZE...,YSIZE)\n",
    "r0 = collect(progress(accuracy(m0(xtst),ytst) for z in \n",
    "             takenth(adam(m0,repeat(dtrn,EPOCHS)),TESTFREQ)));"
   ]
  },
  {
   "cell_type": "code",
   "execution_count": 20,
   "metadata": {},
   "outputs": [
    {
     "name": "stdout",
     "output_type": "stream",
     "text": [
      "9.44e-01  100.00%┣█████████████████┫ 60/60 [07:25/07:25, 7.41s/i]\n"
     ]
    }
   ],
   "source": [
    "# Experiment 11: Compute training curve with regularization\n",
    "Random.seed!(1)\n",
    "EPOCHS, TESTFREQ = 1, 1000\n",
    "GAMMA, UPDATE = 0.0001, true\n",
    "m1 = MLP(XSIZE,HSIZE...,YSIZE)\n",
    "r1 = collect(progress(accuracy(m1(xtst),ytst) for z in \n",
    "             takenth(adam(m1,repeat(dtrn,EPOCHS)),TESTFREQ)));"
   ]
  },
  {
   "cell_type": "code",
   "execution_count": 21,
   "metadata": {},
   "outputs": [
    {
     "name": "stdout",
     "output_type": "stream",
     "text": [
      "9.46e-01  100.00%┣█████████████████┫ 60/60 [07:32/07:32, 7.53s/i]\n"
     ]
    }
   ],
   "source": [
    "# Experiment 12: Compute training curve with regularization after an initial period\n",
    "Random.seed!(1)\n",
    "EPOCHS, TESTFREQ = 1, 1000\n",
    "GAMMA, UPDATE = 0, false\n",
    "m2 = MLP(XSIZE,HSIZE...,YSIZE)\n",
    "r2 = collect(progress(\n",
    "        (a=accuracy(m2(xtst),ytst); if a>0.9; global GAMMA,UPDATE=0.0001,true; end; a)\n",
    "        for z in takenth(adam(m2,repeat(dtrn,EPOCHS)),TESTFREQ)));"
   ]
  },
  {
   "cell_type": "code",
   "execution_count": 22,
   "metadata": {},
   "outputs": [
    {
     "data": {
      "image/png": "[encoded data removed]"
     },
     "execution_count": 22,
     "metadata": {},
     "output_type": "execute_result"
    }
   ],
   "source": [
    "# Plot training curves\n",
    "Plots.default(fmt=:png,ls=:auto,legend=:bottomright)\n",
    "plot([r0 r1 r2])"
   ]
  }
 ],
 "metadata": {
  "@webio": {
   "lastCommId": null,
   "lastKernelId": null
  },
  "kernelspec": {
   "display_name": "Julia 1.1.1",
   "language": "julia",
   "name": "julia-1.1"
  },
  "language_info": {
   "file_extension": ".jl",
   "mimetype": "application/julia",
   "name": "julia",
   "version": "1.1.1"
  }
 },
 "nbformat": 4,
 "nbformat_minor": 2
}
