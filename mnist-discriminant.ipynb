{
 "cells": [
  {
   "cell_type": "code",
   "execution_count": 1,
   "metadata": {},
   "outputs": [],
   "source": [
    "# Packages\n",
    "using Knet, AutoGrad, LinearAlgebra, Base.Iterators, Statistics, Random, StatsBase, IterTools, Plots"
   ]
  },
  {
   "cell_type": "code",
   "execution_count": 2,
   "metadata": {},
   "outputs": [
    {
     "data": {
      "text/plain": [
       "0.0001"
      ]
     },
     "execution_count": 2,
     "metadata": {},
     "output_type": "execute_result"
    }
   ],
   "source": [
    "# Constants\n",
    "ENV[\"COLUMNS\"] = 64\n",
    "ARRAY=Array{Float64} # KnetArray{Float32}\n",
    "UPDATE=true # keep this true (false only useful for checking gradients)\n",
    "BSIZE=1     # keep batchsize=1 until larger ones supported\n",
    "XSIZE=28*28\n",
    "YSIZE=10\n",
    "HSIZE=[64]\n",
    "ALPHA=100.0\n",
    "GAMMA=0.0001\n",
    "LAMBDA=0.995\n",
    "ETA=0.1\n",
    "MU0=0.0001"
   ]
  },
  {
   "cell_type": "code",
   "execution_count": 3,
   "metadata": {},
   "outputs": [
    {
     "name": "stderr",
     "output_type": "stream",
     "text": [
      "┌ Info: Loading MNIST...\n",
      "└ @ Main /home/ec2-user/.julia/dev/Knet/data/mnist.jl:33\n"
     ]
    }
   ],
   "source": [
    "# Load minibatched MNIST data:\n",
    "include(Knet.dir(\"data\",\"mnist.jl\"))\n",
    "dtrn, dtst = mnistdata(xtype=ARRAY, batchsize=BSIZE)\n",
    "xtrn, ytrn, xtst, ytst = mnist()\n",
    "xtrn = ARRAY(reshape(xtrn,(XSIZE,:)))\n",
    "xtst = ARRAY(reshape(xtst,(XSIZE,:)));"
   ]
  },
  {
   "cell_type": "code",
   "execution_count": 4,
   "metadata": {},
   "outputs": [],
   "source": [
    "# Model definition and initialization\n",
    "struct MLP; W; b; μ; B; g; ∇g;\n",
    "    function MLP(dims...;α=ALPHA)\n",
    "        h,o = dims[end-1:end]\n",
    "        W = initw.(dims[1:end-1],dims[2:end])\n",
    "        b = initb.(dims[2:end])\n",
    "        μ = initμ(h,o)\n",
    "        B = initB(h,o;α=α)\n",
    "        g = initg(μ,B)\n",
    "        ∇g = init∇g(h)\n",
    "        new(W, b, μ, B, g, ∇g)\n",
    "    end\n",
    "end\n",
    "\n",
    "initw(i,o)=Param(ARRAY(xavier(o,i)))\n",
    "initb(o)=Param(ARRAY(zeros(o)))\n",
    "initμ(h,o)=ARRAY(MU0*randn(h,o))\n",
    "initB(h,o;α=ALPHA)=(B = zeros(h,h,o); for i in 1:o, j in 1:h; B[j,j,i] = α; end; ARRAY(B))\n",
    "init∇g(h)=ARRAY(zeros(h))\n",
    "\n",
    "function initg(μ,B)\n",
    "    g,M = 0,size(μ,2)\n",
    "    for k in 1:M, j in 1:M\n",
    "        k==j && continue\n",
    "        Δμ = μ[:,k] - μ[:,j]\n",
    "        g += log(Δμ' * B[:,:,k] * Δμ)\n",
    "    end\n",
    "    return [ -g ]\n",
    "end\n",
    "\n",
    "Base.show(io::IO, m::MLP)=print(IOContext(io,:compact=>true), \"MLP\", (size(m.W[1],2),length.(m.b)...))"
   ]
  },
  {
   "cell_type": "code",
   "execution_count": 5,
   "metadata": {},
   "outputs": [],
   "source": [
    "# Featurevec, predict and loss functions\n",
    "function featurevector(m::MLP,x)\n",
    "    L,y = length(m.W),mat(x)\n",
    "    for l in 1:L-1\n",
    "        y = relu.(m.b[l] .+ m.W[l] * y)\n",
    "    end\n",
    "    return y\n",
    "end\n",
    "\n",
    "function (m::MLP)(x) # predict\n",
    "    m.b[end] .+ m.W[end] * featurevector(m,x)\n",
    "end\n",
    "\n",
    "function (m::MLP)(x,labels;γ=GAMMA) # loss\n",
    "    @assert length(labels)==1 \"Batchsize > 1 not implemented yet.\"\n",
    "    yfeat = featurevector(m,x)\n",
    "    ypred = m.b[end] .+ m.W[end] * yfeat\n",
    "    J = nll(ypred,labels)\n",
    "    g = discriminantregularizer(yfeat,labels,m)\n",
    "    return J + γ * g\n",
    "end"
   ]
  },
  {
   "cell_type": "code",
   "execution_count": 6,
   "metadata": {},
   "outputs": [],
   "source": [
    "function discriminantregularizer(y,labels,m; λ=LAMBDA, η=ETA, update=UPDATE)\n",
    "    y = vec(y)\n",
    "    M = size(m.μ,2)\n",
    "    β = labels[1]     # β(n) class label for the nth sample\n",
    "    μᵦ₀ = m.μ[:,β]    # μ[β(n)](n-1) exponentially weighted mean of class β(n) before the nth sample\n",
    "    Bᵦ₀ = m.B[:,:,β]  # B[β(n)](n-1) exponentially weighted inverse covariance matrix of class β(n) before the nth sample\n",
    "    μᵦ₁  = λ * μᵦ₀ + (1-λ) * y\n",
    "    y₀ = y - μᵦ₀      # ybar[L-1](n) the centralized feature vector\n",
    "    z = Bᵦ₀ * y₀      # unscaled gradient\n",
    "    ξ = 1 / ((1/(1-λ)) + (y₀' * Bᵦ₀ * y₀))  # gradient scaling\n",
    "    A = (1/λ)*(Bᵦ₀ - z*z'*ξ)\n",
    "    Bᵦ₁ = A-(1-λ)*η*A*A/(1+(1-λ)*η*tr(A))  # updated inverse covariance matrix  \n",
    "    ∇g=0*y          # 0*y matches y's array type, zeros(size(y)) may not.\n",
    "    g = m.g[1]\n",
    "    for j=1:M \n",
    "        if (j!=β)\n",
    "            μⱼ=m.μ[:,j]\n",
    "            Bⱼ=m.B[:,:,j]\n",
    "            Δμⱼ₀=μᵦ₀-μⱼ\n",
    "            Δμⱼ₁=μᵦ₁-μⱼ\n",
    "            αⱼ₀=(Δμⱼ₀'*Bᵦ₀*Δμⱼ₀)\n",
    "            αⱼ₁=(Δμⱼ₁'*Bᵦ₁*Δμⱼ₁)\n",
    "            ζⱼ₀=(Δμⱼ₀'*Bⱼ*Δμⱼ₀)\n",
    "            ζⱼ₁=(Δμⱼ₁'*Bⱼ*Δμⱼ₁)\n",
    "            g=g-log(αⱼ₁)+log(αⱼ₀)-log(ζⱼ₁)+log(ζⱼ₀)\n",
    "            qⱼ=Bᵦ₁*Δμⱼ₁\n",
    "            ∇g+=Bⱼ*Δμⱼ₁/(Δμⱼ₁'*Bⱼ*Δμⱼ₁)+qⱼ*(1-qⱼ'*(y-μᵦ₁))/αⱼ₁\n",
    "        end\n",
    "    end\n",
    "            \n",
    "    if training()  # Store ∇g if differentiating\n",
    "        m.∇g .= -2*(1-λ)*∇g\n",
    "    end\n",
    "    \n",
    "    if update      # Update state if specified\n",
    "        m.g[1] = g\n",
    "        m.B[:,:,β] .= Bᵦ₁\n",
    "        m.μ[:,β] .= μᵦ₁\n",
    "    end\n",
    "\n",
    "    return g\n",
    "end\n",
    "\n",
    "@primitive discriminantregularizer(y,l,m;o...),dy  dy*m.∇g"
   ]
  },
  {
   "cell_type": "code",
   "execution_count": 7,
   "metadata": {},
   "outputs": [
    {
     "name": "stdout",
     "output_type": "stream",
     "text": [
      "x |> summary = \"28×28×1×1 Array{Float64,4}\"\n",
      "labels = UInt8[0x05]\n",
      "(y = featurevector(m, x)) |> summary = \"64×1 Array{Float64,2}\"\n",
      "(scores = m(x)) |> summary = \"10×1 Array{Float64,2}\"\n",
      "J = nll(scores, labels) = 2.3873872863590675\n",
      "g = discriminantregularizer(y, labels, m) = 747.9247785367795\n",
      "J + GAMMA * g = 2.4621797642127454\n",
      "m(x, labels) = 2.4621797642127454\n"
     ]
    }
   ],
   "source": [
    "# Experiment 1: check model functions\n",
    "UPDATE=false\n",
    "(x,labels) = first(dtrn)\n",
    "m = MLP(XSIZE,HSIZE...,YSIZE)\n",
    "@show x |> summary\n",
    "@show labels\n",
    "@show (y = featurevector(m,x)) |> summary\n",
    "@show (scores = m(x)) |> summary\n",
    "@show J=nll(scores,labels)\n",
    "@show g=discriminantregularizer(y,labels,m)\n",
    "@show J + GAMMA * g\n",
    "@show m(x,labels)\n",
    "UPDATE=true;"
   ]
  },
  {
   "cell_type": "code",
   "execution_count": 8,
   "metadata": {},
   "outputs": [
    {
     "name": "stdout",
     "output_type": "stream",
     "text": [
      "discriminantregularizer(py, labels, m) = 754.443782327036\n",
      "#= In[8]:9 =# @gcheck(discriminantregularizer(py, labels, m)) = true\n",
      "#= In[8]:10 =# @gcheck(nll(m(x), labels)) = true\n",
      "#= In[8]:11 =# @gcheck(m(x, labels)) = true\n"
     ]
    },
    {
     "data": {
      "text/plain": [
       "0.0001"
      ]
     },
     "execution_count": 8,
     "metadata": {},
     "output_type": "execute_result"
    }
   ],
   "source": [
    "# Experiment 2: check gradients\n",
    "using AutoGrad: @gcheck, gcheck\n",
    "(x,labels) = first(dtrn)\n",
    "m = MLP(XSIZE,HSIZE...,YSIZE)\n",
    "y = featurevector(m,x)\n",
    "py = Param(y)\n",
    "UPDATE=false\n",
    "@show @gcheck discriminantregularizer(py,labels,m)\n",
    "@show @gcheck nll(m(x),labels)\n",
    "@show @gcheck m(x,labels)\n",
    "UPDATE=true"
   ]
  },
  {
   "cell_type": "code",
   "execution_count": 9,
   "metadata": {},
   "outputs": [
    {
     "name": "stdout",
     "output_type": "stream",
     "text": [
      "-4.59e+00  100.00%┣████████┫ 10000/10000 [01:04/01:04, 157.47i/s]\n"
     ]
    },
    {
     "data": {
      "text/plain": [
       "(acc = 0.9064, nll = 0.29463243110945503, g = [-458.52])"
      ]
     },
     "execution_count": 9,
     "metadata": {},
     "output_type": "execute_result"
    }
   ],
   "source": [
    "# Experiment 3: train one epoch with regularization\n",
    "Random.seed!(1)\n",
    "m = MLP(XSIZE,HSIZE...,YSIZE)\n",
    "GAMMA=0.01\n",
    "progress!(adam(m,dtst))\n",
    "(acc=accuracy(m,dtst),nll=nll(m(xtst),ytst),g=initg(m.μ, m.B))"
   ]
  },
  {
   "cell_type": "code",
   "execution_count": 10,
   "metadata": {},
   "outputs": [
    {
     "name": "stdout",
     "output_type": "stream",
     "text": [
      "2.56e-05  100.00%┣█████████┫ 10000/10000 [00:55/00:55, 182.30i/s]\n"
     ]
    },
    {
     "data": {
      "text/plain": [
       "(acc = 0.9198, nll = 0.2600133985319897, g = [-457.735])"
      ]
     },
     "execution_count": 10,
     "metadata": {},
     "output_type": "execute_result"
    }
   ],
   "source": [
    "# Experiment 4: train one epoch without regularization\n",
    "Random.seed!(1)\n",
    "m = MLP(XSIZE,HSIZE...,YSIZE)\n",
    "GAMMA = 0\n",
    "progress!(adam(m,dtst))\n",
    "(acc=accuracy(m,dtst),nll=nll(m(xtst),ytst),g=initg(m.μ, m.B))"
   ]
  },
  {
   "cell_type": "code",
   "execution_count": 11,
   "metadata": {},
   "outputs": [
    {
     "name": "stdout",
     "output_type": "stream",
     "text": [
      "Dict(7=>10,4=>11,9=>11,10=>13,2=>6,3=>11,5=>5,8=>8,6=>11,1=>14)\n",
      "6.89e-01  100.00%┣██████████████▉┫ 100/100 [01:17/01:17, 1.29i/s]\n"
     ]
    },
    {
     "data": {
      "text/plain": [
       "(0.689, 21)"
      ]
     },
     "execution_count": 11,
     "metadata": {},
     "output_type": "execute_result"
    }
   ],
   "source": [
    "# Experiment 5: run to convergence with 100 instances, no regularization\n",
    "Random.seed!(1)\n",
    "d100 = take(dtrn,100)\n",
    "countmap([Int(y[1]) for (x,y) in d100]) |> println # make sure labels are balanced\n",
    "m = MLP(XSIZE,HSIZE...,YSIZE)\n",
    "GAMMA = 0\n",
    "a5 = collect(progress((adam!(m,d100);accuracy(m(xtst),ytst)) for i in 1:100))\n",
    "findmax(a5)"
   ]
  },
  {
   "cell_type": "code",
   "execution_count": 17,
   "metadata": {},
   "outputs": [
    {
     "name": "stdout",
     "output_type": "stream",
     "text": [
      "6.87e-01  100.00%┣██████████████▉┫ 100/100 [00:29/00:29, 3.40i/s]\n"
     ]
    },
    {
     "data": {
      "text/plain": [
       "(0.6886, 45)"
      ]
     },
     "execution_count": 17,
     "metadata": {},
     "output_type": "execute_result"
    }
   ],
   "source": [
    "# Experiment 5b: run to convergence with 100 instances, default regularization\n",
    "Random.seed!(1)\n",
    "m = MLP(XSIZE,HSIZE...,YSIZE)\n",
    "GAMMA = 0.0001\n",
    "a5b = collect(progress((adam!(m,d100);accuracy(m(xtst),ytst)) for i in 1:100))\n",
    "findmax(a5b)"
   ]
  },
  {
   "cell_type": "code",
   "execution_count": 18,
   "metadata": {
    "scrolled": true
   },
   "outputs": [
    {
     "data": {
      "text/latex": [
       "\\begin{verbatim}\n",
       "goldensection(f,n;kwargs) => (fmin,xmin)\n",
       "\\end{verbatim}\n",
       "Find the minimum of \\texttt{f} using concurrent golden section search in \\texttt{n} dimensions. See \\texttt{Knet.goldensection\\_demo()} for an example.\n",
       "\n",
       "\\texttt{f} is a function from a \\texttt{Vector\\{Float64\\}} of length \\texttt{n} to a \\texttt{Number}.  It can return \\texttt{NaN} for out of range inputs.  Goldensection will always start with a zero vector as the initial input to \\texttt{f}, and the initial step size will be 1 in each dimension.  The user should define \\texttt{f} to scale and shift this input range into a vector meaningful for their application. For positive inputs like learning rate or hidden size, you can use a transformation such as \\texttt{x0*exp(x)} where \\texttt{x} is a value \\texttt{goldensection} passes to \\texttt{f} and \\texttt{x0} is your initial guess for this value. This will effectively start the search at \\texttt{x0}, then move with multiplicative steps.\n",
       "\n",
       "I designed this algorithm combining ideas from \\href{http://apps.nrbook.com/empanel/index.html?pg=492}{Golden Section Search} and \\href{https://en.wikipedia.org/wiki/Hill_climbing}{Hill Climbing Search}. It essentially runs golden section search concurrently in each dimension, picking the next step based on estimated gain.\n",
       "\n",
       "\\section{Keyword arguments}\n",
       "\\begin{itemize}\n",
       "\\item \\texttt{dxmin=0.1}: smallest step size.\n",
       "\n",
       "\n",
       "\\item \\texttt{accel=φ}: acceleration rate. Golden ratio \\texttt{φ=1.618...} is best.\n",
       "\n",
       "\n",
       "\\item \\texttt{verbose=false}: use \\texttt{true} to print individual steps.\n",
       "\n",
       "\n",
       "\\item \\texttt{history=[]}: cache of \\texttt{[(x,f(x)),...]} function evaluations.\n",
       "\n",
       "\\end{itemize}\n"
      ],
      "text/markdown": [
       "```\n",
       "goldensection(f,n;kwargs) => (fmin,xmin)\n",
       "```\n",
       "\n",
       "Find the minimum of `f` using concurrent golden section search in `n` dimensions. See `Knet.goldensection_demo()` for an example.\n",
       "\n",
       "`f` is a function from a `Vector{Float64}` of length `n` to a `Number`.  It can return `NaN` for out of range inputs.  Goldensection will always start with a zero vector as the initial input to `f`, and the initial step size will be 1 in each dimension.  The user should define `f` to scale and shift this input range into a vector meaningful for their application. For positive inputs like learning rate or hidden size, you can use a transformation such as `x0*exp(x)` where `x` is a value `goldensection` passes to `f` and `x0` is your initial guess for this value. This will effectively start the search at `x0`, then move with multiplicative steps.\n",
       "\n",
       "I designed this algorithm combining ideas from [Golden Section Search](http://apps.nrbook.com/empanel/index.html?pg=492) and [Hill Climbing Search](https://en.wikipedia.org/wiki/Hill_climbing). It essentially runs golden section search concurrently in each dimension, picking the next step based on estimated gain.\n",
       "\n",
       "# Keyword arguments\n",
       "\n",
       "  * `dxmin=0.1`: smallest step size.\n",
       "  * `accel=φ`: acceleration rate. Golden ratio `φ=1.618...` is best.\n",
       "  * `verbose=false`: use `true` to print individual steps.\n",
       "  * `history=[]`: cache of `[(x,f(x)),...]` function evaluations.\n"
      ],
      "text/plain": [
       "\u001b[36m  goldensection(f,n;kwargs) => (fmin,xmin)\u001b[39m\n",
       "\n",
       "  Find the minimum of \u001b[36mf\u001b[39m using concurrent golden section search\n",
       "  in \u001b[36mn\u001b[39m dimensions. See \u001b[36mKnet.goldensection_demo()\u001b[39m for an\n",
       "  example.\n",
       "\n",
       "  \u001b[36mf\u001b[39m is a function from a \u001b[36mVector{Float64}\u001b[39m of length \u001b[36mn\u001b[39m to a\n",
       "  \u001b[36mNumber\u001b[39m. It can return \u001b[36mNaN\u001b[39m for out of range inputs.\n",
       "  Goldensection will always start with a zero vector as the\n",
       "  initial input to \u001b[36mf\u001b[39m, and the initial step size will be 1 in\n",
       "  each dimension. The user should define \u001b[36mf\u001b[39m to scale and shift\n",
       "  this input range into a vector meaningful for their\n",
       "  application. For positive inputs like learning rate or\n",
       "  hidden size, you can use a transformation such as \u001b[36mx0*exp(x)\u001b[39m\n",
       "  where \u001b[36mx\u001b[39m is a value \u001b[36mgoldensection\u001b[39m passes to \u001b[36mf\u001b[39m and \u001b[36mx0\u001b[39m is your\n",
       "  initial guess for this value. This will effectively start\n",
       "  the search at \u001b[36mx0\u001b[39m, then move with multiplicative steps.\n",
       "\n",
       "  I designed this algorithm combining ideas from Golden\n",
       "  Section Search\n",
       "  (http://apps.nrbook.com/empanel/index.html?pg=492) and Hill\n",
       "  Climbing Search\n",
       "  (https://en.wikipedia.org/wiki/Hill_climbing). It\n",
       "  essentially runs golden section search concurrently in each\n",
       "  dimension, picking the next step based on estimated gain.\n",
       "\n",
       "\u001b[1m  Keyword arguments\u001b[22m\n",
       "\u001b[1m  ≡≡≡≡≡≡≡≡≡≡≡≡≡≡≡≡≡≡≡\u001b[22m\n",
       "\n",
       "    •    \u001b[36mdxmin=0.1\u001b[39m: smallest step size.\n",
       "\n",
       "    •    \u001b[36maccel=φ\u001b[39m: acceleration rate. Golden ratio\n",
       "        \u001b[36mφ=1.618...\u001b[39m is best.\n",
       "\n",
       "    •    \u001b[36mverbose=false\u001b[39m: use \u001b[36mtrue\u001b[39m to print individual steps.\n",
       "\n",
       "    •    \u001b[36mhistory=[]\u001b[39m: cache of \u001b[36m[(x,f(x)),...]\u001b[39m function\n",
       "        evaluations."
      ]
     },
     "execution_count": 18,
     "metadata": {},
     "output_type": "execute_result"
    }
   ],
   "source": [
    "@doc goldensection"
   ]
  },
  {
   "cell_type": "code",
   "execution_count": 21,
   "metadata": {},
   "outputs": [
    {
     "name": "stdout",
     "output_type": "stream",
     "text": [
      "(0.0024787521766663585, 0.6904, 21)\n",
      "(0.0024787521766663585, 0.6906, 94)\n",
      "(0.0024787521766663585, 0.6898, 26)\n",
      "(0.0024787521766663585, 0.6904, 100)\n",
      "(0.0024787521766663585, 0.6881, 38)\n",
      "(0.006737946999085467, 0.6919, 69)\n",
      "(0.006737946999085467, 0.6875, 26)\n",
      "(0.006737946999085467, 0.6956, 98)\n",
      "(0.006737946999085467, 0.6846, 89)\n",
      "(0.006737946999085467, 0.6887, 77)\n",
      "(0.0013360550645321028, 0.692, 21)\n",
      "(0.0013360550645321028, 0.6917, 99)\n",
      "(0.0013360550645321028, 0.6954, 43)\n",
      "(0.0013360550645321028, 0.6887, 99)\n",
      "(0.0013360550645321028, 0.686, 30)\n",
      "(0.0004915071905143453, 0.6927, 42)\n",
      "(0.0004915071905143453, 0.6924, 89)\n",
      "(0.0004915071905143453, 0.695, 91)\n",
      "(0.0004915071905143453, 0.6883, 100)\n",
      "(0.0004915071905143453, 0.6867, 47)\n",
      "(9.746005292558201e-5, 0.6924, 100)\n",
      "(9.746005292558201e-5, 0.691, 73)\n",
      "(9.746005292558201e-5, 0.6952, 57)\n",
      "(9.746005292558201e-5, 0.6884, 93)\n",
      "(9.746005292558201e-5, 0.6865, 33)\n",
      "(0.0002649238908682664, 0.6914, 89)\n",
      "(0.0002649238908682664, 0.6909, 72)\n",
      "(0.0002649238908682664, 0.6945, 71)\n",
      "(0.0002649238908682664, 0.6877, 83)\n",
      "(0.0002649238908682664, 0.6877, 28)\n",
      "(0.0007201377984718757, 0.6915, 41)\n",
      "(0.0007201377984718757, 0.6912, 99)\n",
      "(0.0007201377984718757, 0.6951, 72)\n",
      "(0.0007201377984718757, 0.6872, 90)\n",
      "(0.0007201377984718757, 0.6866, 33)\n",
      "(0.0003881564933624478, 0.6912, 98)\n",
      "(0.0003881564933624478, 0.6918, 97)\n",
      "(0.0003881564933624478, 0.6951, 55)\n",
      "(0.0003881564933624478, 0.6886, 100)\n",
      "(0.0003881564933624478, 0.6868, 29)\n",
      "(0.0005687122548503959, 0.6919, 37)\n",
      "(0.0005687122548503959, 0.6916, 88)\n",
      "(0.0005687122548503959, 0.6946, 86)\n"
     ]
    },
    {
     "ename": "InterruptException",
     "evalue": "InterruptException:",
     "output_type": "error",
     "traceback": [
      "InterruptException:",
      "",
      "Stacktrace:",
      " [1] update!(::Array{Float64,2}, ::Array{Float64,2}, ::Adam) at /home/ec2-user/.julia/dev/Knet/src/update.jl:535",
      " [2] update!(::Param{Array{Float64,2}}, ::Array{Float64,2}) at /home/ec2-user/.julia/dev/Knet/src/update.jl:468",
      " [3] iterate(::Knet.Minimize{Base.Iterators.Take{Knet.Data{Tuple{Array{Float64,4},Array{UInt8,1}}}}}, ::Tuple{Int64,Int64}) at /home/ec2-user/.julia/dev/Knet/src/train.jl:29",
      " [4] #adam!#773(::Base.Iterators.Pairs{Union{},Union{},Tuple{},NamedTuple{(),Tuple{}}}, ::Function, ::MLP, ::Vararg{Any,N} where N) at /home/ec2-user/.julia/dev/Knet/src/update.jl:409",
      " [5] adam! at /home/ec2-user/.julia/dev/Knet/src/update.jl:409 [inlined]",
      " [6] (::getfield(Main, Symbol(\"##59#60\")){MLP})(::Int64) at ./none:0",
      " [7] iterate at ./generator.jl:47 [inlined]",
      " [8] collect_to!(::Array{Float64,1}, ::Base.Generator{UnitRange{Int64},getfield(Main, Symbol(\"##59#60\")){MLP}}, ::Int64, ::Int64) at ./array.jl:651",
      " [9] collect_to_with_first!(::Array{Float64,1}, ::Float64, ::Base.Generator{UnitRange{Int64},getfield(Main, Symbol(\"##59#60\")){MLP}}, ::Int64) at ./array.jl:630",
      " [10] collect(::Base.Generator{UnitRange{Int64},getfield(Main, Symbol(\"##59#60\")){MLP}}) at ./array.jl:611",
      " [11] evalgamma(::Array{Float64,1}) at ./In[21]:8",
      " [12] (::getfield(Knet, Symbol(\"#feval#804\")){Array{Any,1},typeof(evalgamma)})(::Array{Float64,1}) at /home/ec2-user/.julia/dev/Knet/src/hyperopt.jl:40",
      " [13] #goldensection#803(::Float64, ::Float64, ::Array{Any,1}, ::Bool, ::Function, ::typeof(evalgamma), ::Int64) at /home/ec2-user/.julia/dev/Knet/src/hyperopt.jl:58",
      " [14] goldensection(::Function, ::Int64) at /home/ec2-user/.julia/dev/Knet/src/hyperopt.jl:34",
      " [15] top-level scope at In[21]:14"
     ]
    }
   ],
   "source": [
    "# Experiment 6: find best γ for 100 instances\n",
    "function evalgamma(loggamma)\n",
    "    global GAMMA = exp(loggamma[1]-6)\n",
    "    results = []\n",
    "    for i in 1:5\n",
    "        Random.seed!(i)\n",
    "        m = MLP(XSIZE,HSIZE...,YSIZE)\n",
    "        a = [ (adam!(m,d100); accuracy(m(xtst),ytst)) for i in 1:100 ]\n",
    "        println((GAMMA,findmax(a)...))\n",
    "        push!(results, maximum(a))\n",
    "    end\n",
    "    @show -mean(results)\n",
    "end\n",
    "\n",
    "# best = (0.0005)\n",
    "results6 = []\n",
    "goldensection(evalgamma,1; history=results6)"
   ]
  },
  {
   "cell_type": "code",
   "execution_count": null,
   "metadata": {},
   "outputs": [],
   "source": [
    "# Experiment 7: run to convergence with 1000 instances, no regularization\n",
    "Random.seed!(1)\n",
    "d1000 = take(dtrn,1000)\n",
    "countmap([Int(y[1]) for (x,y) in d1000]) |> println # make sure labels balanced\n",
    "m = MLP(XSIZE,HSIZE...,YSIZE)\n",
    "GAMMA,UPDATE = 0,false\n",
    "a = collect(progress((adam!(m,d1000);accuracy(m(xtst),ytst)) for i in 1:100))\n",
    "UPDATE=true\n",
    "findmax(a)"
   ]
  },
  {
   "cell_type": "code",
   "execution_count": null,
   "metadata": {},
   "outputs": [],
   "source": [
    "# Experiment 8: find best γ for 1000 instances\n",
    "function evalgamma(loggamma)\n",
    "    global GAMMA = exp(loggamma[1]-6)\n",
    "    results = []\n",
    "    for i in 1:5\n",
    "        Random.seed!(i)\n",
    "        m = MLP(XSIZE,HSIZE...,YSIZE)\n",
    "        a = [ (adam!(m,d1000); accuracy(m(xtst),ytst)) for i in 1:30 ]\n",
    "        println((GAMMA,findmax(a)...))\n",
    "        push!(results, maximum(a))\n",
    "    end\n",
    "    @show -mean(results)\n",
    "end\n",
    "\n",
    "# best = ()\n",
    "results8 = []\n",
    "goldensection(evalgamma,1; history=results8)"
   ]
  },
  {
   "cell_type": "code",
   "execution_count": 23,
   "metadata": {},
   "outputs": [
    {
     "name": "stdout",
     "output_type": "stream",
     "text": [
      "(n = 32, γ = 0, acc = 0.5578)\n",
      "(n = 32, γ = 0.1, acc = 0.5667)\n",
      "(n = 64, γ = 0, acc = 0.6832)\n",
      "(n = 64, γ = 0.1, acc = 0.684)\n",
      "(n = 128, γ = 0, acc = 0.7236)\n",
      "(n = 128, γ = 0.1, acc = 0.7251)\n",
      "(n = 256, γ = 0, acc = 0.798)\n",
      "(n = 256, γ = 0.1, acc = 0.8038)\n",
      "(n = 512, γ = 0, acc = 0.8546)\n",
      "\n",
      "Stacktrace:\n",
      " [1] \u001b[1mthrow_complex_domainerror\u001b[22m\u001b[1m(\u001b[22m::Symbol, ::Float64\u001b[1m)\u001b[22m at \u001b[1m./math.jl:31\u001b[22m\n",
      " [2] \u001b[1mlog\u001b[22m\u001b[1m(\u001b[22m::Float64\u001b[1m)\u001b[22m at \u001b[1m./special/log.jl:285\u001b[22m\n",
      " [3] \u001b[1m#discriminantregularizer#8\u001b[22m\u001b[1m(\u001b[22m::Float64, ::Float64, ::Bool, ::Function, ::Array{Float64,2}, ::Array{UInt8,1}, ::MLP\u001b[1m)\u001b[22m at \u001b[1m./In[6]:25\u001b[22m\n",
      " [4] \u001b[1mdiscriminantregularizer\u001b[22m\u001b[1m(\u001b[22m::Array{Float64,2}, ::Array{UInt8,1}, ::MLP\u001b[1m)\u001b[22m at \u001b[1m./In[6]:2\u001b[22m\n",
      " [5] \u001b[1m#forw#1\u001b[22m\u001b[1m(\u001b[22m::Base.Iterators.Pairs{Union{},Union{},Tuple{},NamedTuple{(),Tuple{}}}, ::Function, ::Function, ::AutoGrad.Result{Array{Float64,2}}, ::Vararg{Any,N} where N\u001b[1m)\u001b[22m at \u001b[1m/home/ec2-user/.julia/dev/AutoGrad/src/core.jl:66\u001b[22m\n",
      " [6] \u001b[1mforw\u001b[22m at \u001b[1m/home/ec2-user/.julia/dev/AutoGrad/src/core.jl:65\u001b[22m [inlined]\n",
      " [7] \u001b[1m#discriminantregularizer#33\u001b[22m at \u001b[1m./none:0\u001b[22m [inlined]\n",
      " [8] \u001b[1mdiscriminantregularizer\u001b[22m\u001b[1m(\u001b[22m::AutoGrad.Result{Array{Float64,2}}, ::Array{UInt8,1}, ::MLP\u001b[1m)\u001b[22m at \u001b[1m./none:0\u001b[22m\n",
      " [9] \u001b[1m#call#7\u001b[22m\u001b[1m(\u001b[22m::Float64, ::MLP, ::Array{Float64,4}, ::Array{UInt8,1}\u001b[1m)\u001b[22m at \u001b[1m./In[5]:19\u001b[22m\n",
      " [10] \u001b[1m(::MLP)\u001b[22m\u001b[1m(\u001b[22m::Array{Float64,4}, ::Array{UInt8,1}\u001b[1m)\u001b[22m at \u001b[1m./In[5]:15\u001b[22m\n",
      " [11] \u001b[1m(::getfield(Knet, Symbol(\"##664#665\")){Knet.Minimize{Base.Iterators.Take{Knet.Data{Tuple{Array{Float64,4},Array{UInt8,1}}}}},Tuple{Array{Float64,4},Array{UInt8,1}}})\u001b[22m\u001b[1m(\u001b[22m\u001b[1m)\u001b[22m at \u001b[1m/home/ec2-user/.julia/dev/AutoGrad/src/core.jl:197\u001b[22m\n",
      " [12] \u001b[1m#differentiate#3\u001b[22m\u001b[1m(\u001b[22m::Base.Iterators.Pairs{Union{},Union{},Tuple{},NamedTuple{(),Tuple{}}}, ::Function, ::Function\u001b[1m)\u001b[22m at \u001b[1m/home/ec2-user/.julia/dev/AutoGrad/src/core.jl:144\u001b[22m\n",
      " [13] \u001b[1mdifferentiate\u001b[22m\u001b[1m(\u001b[22m::Function\u001b[1m)\u001b[22m at \u001b[1m/home/ec2-user/.julia/dev/AutoGrad/src/core.jl:135\u001b[22m\n",
      " [14] \u001b[1miterate\u001b[22m\u001b[1m(\u001b[22m::Knet.Minimize{Base.Iterators.Take{Knet.Data{Tuple{Array{Float64,4},Array{UInt8,1}}}}}, ::Tuple{Int64,Int64}\u001b[1m)\u001b[22m at \u001b[1m/home/ec2-user/.julia/dev/Knet/src/train.jl:24\u001b[22m\n",
      " [15] \u001b[1m#adam!#773\u001b[22m\u001b[1m(\u001b[22m::Base.Iterators.Pairs{Union{},Union{},Tuple{},NamedTuple{(),Tuple{}}}, ::Function, ::MLP, ::Vararg{Any,N} where N\u001b[1m)\u001b[22m at \u001b[1m/home/ec2-user/.julia/dev/Knet/src/update.jl:409\u001b[22m\n",
      " [16] \u001b[1madam!\u001b[22m\u001b[1m(\u001b[22m::MLP, ::Vararg{Any,N} where N\u001b[1m)\u001b[22m at \u001b[1m/home/ec2-user/.julia/dev/Knet/src/update.jl:409\u001b[22m\n",
      " [17] \u001b[1m(::getfield(Main, Symbol(\"##63#64\")){Base.Iterators.Take{Knet.Data{Tuple{Array{Float64,4},Array{UInt8,1}}}}})\u001b[22m\u001b[1m(\u001b[22m::Int64\u001b[1m)\u001b[22m at \u001b[1m./none:0\u001b[22m\n",
      " [18] \u001b[1miterate\u001b[22m at \u001b[1m./generator.jl:47\u001b[22m [inlined]\n",
      " [19] \u001b[1mcollect_to!\u001b[22m\u001b[1m(\u001b[22m::Array{Float64,1}, ::Base.Generator{UnitRange{Int64},getfield(Main, Symbol(\"##63#64\")){Base.Iterators.Take{Knet.Data{Tuple{Array{Float64,4},Array{UInt8,1}}}}}}, ::Int64, ::Int64\u001b[1m)\u001b[22m at \u001b[1m./array.jl:651\u001b[22m\n",
      " [20] \u001b[1mcollect_to_with_first!\u001b[22m\u001b[1m(\u001b[22m::Array{Float64,1}, ::Float64, ::Base.Generator{UnitRange{Int64},getfield(Main, Symbol(\"##63#64\")){Base.Iterators.Take{Knet.Data{Tuple{Array{Float64,4},Array{UInt8,1}}}}}}, ::Int64\u001b[1m)\u001b[22m at \u001b[1m./array.jl:630\u001b[22m\n",
      " [21] \u001b[1mcollect\u001b[22m\u001b[1m(\u001b[22m::Base.Generator{UnitRange{Int64},getfield(Main, Symbol(\"##63#64\")){Base.Iterators.Take{Knet.Data{Tuple{Array{Float64,4},Array{UInt8,1}}}}}}\u001b[1m)\u001b[22m at \u001b[1m./array.jl:611\u001b[22m\n",
      " [22] top-level scope at \u001b[1mIn[23]:13\u001b[22m\n",
      " [23] \u001b[1meval\u001b[22m at \u001b[1m./boot.jl:328\u001b[22m [inlined]\n",
      " [24] \u001b[1msoftscope_include_string\u001b[22m\u001b[1m(\u001b[22m::Module, ::String, ::String\u001b[1m)\u001b[22m at \u001b[1m/home/ec2-user/.julia/packages/SoftGlobalScope/cSbw5/src/SoftGlobalScope.jl:218\u001b[22m\n",
      " [25] \u001b[1mexecute_request\u001b[22m\u001b[1m(\u001b[22m::ZMQ.Socket, ::IJulia.Msg\u001b[1m)\u001b[22m at \u001b[1m/home/ec2-user/.julia/packages/IJulia/gI2uA/src/execute_request.jl:67\u001b[22m\n",
      " [26] \u001b[1m#invokelatest#1\u001b[22m at \u001b[1m./essentials.jl:742\u001b[22m [inlined]\n",
      " [27] \u001b[1minvokelatest\u001b[22m at \u001b[1m./essentials.jl:741\u001b[22m [inlined]\n",
      " [28] \u001b[1meventloop\u001b[22m\u001b[1m(\u001b[22m::ZMQ.Socket\u001b[1m)\u001b[22m at \u001b[1m/home/ec2-user/.julia/packages/IJulia/gI2uA/src/eventloop.jl:8\u001b[22m\n",
      " [29] \u001b[1m(::getfield(IJulia, Symbol(\"##15#18\")))\u001b[22m\u001b[1m(\u001b[22m\u001b[1m)\u001b[22m at \u001b[1m./task.jl:259\u001b[22m\n"
     ]
    },
    {
     "ename": "DomainError",
     "evalue": "DomainError with -4785.370673026404:\nlog will only return a complex result if called with a complex argument. Try log(Complex(x)).",
     "output_type": "error",
     "traceback": [
      "DomainError with -4785.370673026404:\nlog will only return a complex result if called with a complex argument. Try log(Complex(x)).",
      "",
      "Stacktrace:",
      " [1] #differentiate#3(::Base.Iterators.Pairs{Union{},Union{},Tuple{},NamedTuple{(),Tuple{}}}, ::Function, ::Function) at /home/ec2-user/.julia/dev/AutoGrad/src/core.jl:148",
      " [2] differentiate(::Function) at /home/ec2-user/.julia/dev/AutoGrad/src/core.jl:135",
      " [3] iterate(::Knet.Minimize{Base.Iterators.Take{Knet.Data{Tuple{Array{Float64,4},Array{UInt8,1}}}}}, ::Tuple{Int64,Int64}) at /home/ec2-user/.julia/dev/Knet/src/train.jl:24",
      " [4] #adam!#773(::Base.Iterators.Pairs{Union{},Union{},Tuple{},NamedTuple{(),Tuple{}}}, ::Function, ::MLP, ::Vararg{Any,N} where N) at /home/ec2-user/.julia/dev/Knet/src/update.jl:409",
      " [5] adam!(::MLP, ::Vararg{Any,N} where N) at /home/ec2-user/.julia/dev/Knet/src/update.jl:409",
      " [6] (::getfield(Main, Symbol(\"##63#64\")){Base.Iterators.Take{Knet.Data{Tuple{Array{Float64,4},Array{UInt8,1}}}}})(::Int64) at ./none:0",
      " [7] iterate at ./generator.jl:47 [inlined]",
      " [8] collect_to!(::Array{Float64,1}, ::Base.Generator{UnitRange{Int64},getfield(Main, Symbol(\"##63#64\")){Base.Iterators.Take{Knet.Data{Tuple{Array{Float64,4},Array{UInt8,1}}}}}}, ::Int64, ::Int64) at ./array.jl:651",
      " [9] collect_to_with_first!(::Array{Float64,1}, ::Float64, ::Base.Generator{UnitRange{Int64},getfield(Main, Symbol(\"##63#64\")){Base.Iterators.Take{Knet.Data{Tuple{Array{Float64,4},Array{UInt8,1}}}}}}, ::Int64) at ./array.jl:630",
      " [10] collect(::Base.Generator{UnitRange{Int64},getfield(Main, Symbol(\"##63#64\")){Base.Iterators.Take{Knet.Data{Tuple{Array{Float64,4},Array{UInt8,1}}}}}}) at ./array.jl:611",
      " [11] top-level scope at In[23]:13"
     ]
    }
   ],
   "source": [
    "# Experiment 9: compute learning curve\n",
    "# Hyperparameter optimization failed, using γ1=γ2=0.01 as default\n",
    "# Compare with/without regularization for various dataset sizes\n",
    "# 1. Regularization has a slight advantage for small sizes (may be more significant with hyperparam optimization)\n",
    "# 2. The advantage reduces, disappears as dataset size gets bigger\n",
    "# 3. We get a negative log problem at n=1024\n",
    "results9 = Dict()\n",
    "for p in 5:15, g in (0,0.1)\n",
    "    data = take(dtrn,2^p)\n",
    "    GAMMA = g\n",
    "    Random.seed!(1)\n",
    "    m = MLP(XSIZE,HSIZE...,YSIZE)\n",
    "    a = [ (adam!(m,data); accuracy(m(xtst),ytst)) for i in 1:100 ]\n",
    "    println((n=2^p,γ=g,acc=maximum(a)))\n",
    "    results9[(n=2^p,γ=g)] = a\n",
    "end"
   ]
  },
  {
   "cell_type": "code",
   "execution_count": null,
   "metadata": {},
   "outputs": [],
   "source": [
    "#= Learning curve:\n",
    "(n = 32, γ = 0, acc = 0.5578)\n",
    "(n = 32, γ = 0.1, acc = 0.5667)\n",
    "(n = 64, γ = 0, acc = 0.6832)\n",
    "(n = 64, γ = 0.1, acc = 0.684)\n",
    "(n = 128, γ = 0, acc = 0.7236)\n",
    "(n = 128, γ = 0.1, acc = 0.7251)\n",
    "(n = 256, γ = 0, acc = 0.798)\n",
    "(n = 256, γ = 0.1, acc = 0.8038)\n",
    "(n = 512, γ = 0, acc = 0.8546)\n",
    "\n",
    "=#"
   ]
  },
  {
   "cell_type": "code",
   "execution_count": 24,
   "metadata": {},
   "outputs": [
    {
     "name": "stdout",
     "output_type": "stream",
     "text": [
      "9.55e-01  100.00%┣█████████████████┫ 60/60 [03:49/03:49, 3.82s/i]\n"
     ]
    }
   ],
   "source": [
    "# Experiment 10: Compute training curve with no regularization\n",
    "Random.seed!(1)\n",
    "EPOCHS, TESTFREQ = 1, 1000\n",
    "GAMMA, UPDATE = 0, false\n",
    "m0 = MLP(XSIZE,HSIZE...,YSIZE)\n",
    "r0 = collect(progress(accuracy(m0(xtst),ytst) for z in \n",
    "             takenth(adam(m0,repeat(dtrn,EPOCHS)),TESTFREQ)));"
   ]
  },
  {
   "cell_type": "code",
   "execution_count": 25,
   "metadata": {},
   "outputs": [
    {
     "name": "stdout",
     "output_type": "stream",
     "text": [
      "9.46e-01  100.00%┣█████████████████┫ 60/60 [03:33/03:33, 3.55s/i]\n"
     ]
    }
   ],
   "source": [
    "# Experiment 11: Compute training curve with regularization\n",
    "Random.seed!(1)\n",
    "EPOCHS, TESTFREQ = 1, 1000\n",
    "GAMMA, UPDATE = 0.1, true\n",
    "m1 = MLP(XSIZE,HSIZE...,YSIZE)\n",
    "r1 = collect(progress(accuracy(m1(xtst),ytst) for z in \n",
    "             takenth(adam(m1,repeat(dtrn,EPOCHS)),TESTFREQ)));"
   ]
  },
  {
   "cell_type": "code",
   "execution_count": 26,
   "metadata": {},
   "outputs": [
    {
     "name": "stdout",
     "output_type": "stream",
     "text": [
      "9.52e-01  100.00%┣█████████████████┫ 60/60 [03:51/03:51, 3.85s/i]\n"
     ]
    }
   ],
   "source": [
    "# Experiment 12: Compute training curve with regularization after an initial period\n",
    "Random.seed!(1)\n",
    "EPOCHS, TESTFREQ = 1, 1000\n",
    "GAMMA, UPDATE = 0, false\n",
    "m2 = MLP(XSIZE,HSIZE...,YSIZE)\n",
    "r2 = collect(progress(\n",
    "        (a=accuracy(m2(xtst),ytst); if a>0.9; global GAMMA,UPDATE=0.1,true; end; a)\n",
    "        for z in takenth(adam(m2,repeat(dtrn,EPOCHS)),TESTFREQ)));"
   ]
  },
  {
   "cell_type": "code",
   "execution_count": 27,
   "metadata": {},
   "outputs": [
    {
     "data": {
      "image/png": "[encoded data removed]"
     },
     "execution_count": 27,
     "metadata": {},
     "output_type": "execute_result"
    }
   ],
   "source": [
    "# Plot training curves\n",
    "Plots.default(fmt=:png,ls=:auto,legend=:bottomright)\n",
    "plot([r0 r1 r2])"
   ]
  },
  {
   "cell_type": "code",
   "execution_count": null,
   "metadata": {},
   "outputs": [],
   "source": []
  },
  {
   "cell_type": "code",
   "execution_count": null,
   "metadata": {},
   "outputs": [],
   "source": [
    "# Macro for debugging\n",
    "macro summ(exs...)\n",
    "    blk = Expr(:block)\n",
    "    for ex in exs\n",
    "        push!(blk.args, :(println($(sprint(Base.show_unquoted,ex)*\" = \"),\n",
    "                                  summ(begin value=$(esc(ex)) end))))\n",
    "    end\n",
    "    isempty(exs) || push!(blk.args, :value)\n",
    "    return blk\n",
    "end\n",
    "summ(x)=(x isa Number ? repr(x) : summary(x))\n",
    "#macro summ(exs...); esc(exs[1]); end\n",
    "\n",
    "#=\n",
    "y = vec(y) = 64-element Array{Float64,1}\n",
    "M = size(m.μ, 2) = 10\n",
    "β = labels[1] = 0x05\n",
    "μᵦ₀ = m.μ[:, β] = 64-element Array{Float64,1}\n",
    "Bᵦ₀ = m.B[:, :, β] = 64×64 Array{Float64,2}\n",
    "μᵦ₁ = λ * μᵦ₀ + (1 - λ) * y = 64-element Array{Float64,1}\n",
    "y₀ = y - μᵦ₀ = 64-element Array{Float64,1}\n",
    "z = Bᵦ₀ * y₀ = 64-element Array{Float64,1}\n",
    "ξ = 1 / (1 / (1 - λ) + y₀' * Bᵦ₀ * y₀) = 0.002133886953265167\n",
    "A = (1 / λ) * (Bᵦ₀ - z * z' * ξ) = 64×64 Array{Float64,2}\n",
    "Bᵦ₁ = A - ((1 - λ) * η * A * A) / (1 + (1 - λ) * η * tr(A)) = 64×64 Array{Float64,2}\n",
    "∇g = 0y = 64-element Array{Float64,1}\n",
    "g = m.g[1] = 814.3781628782718\n",
    "μⱼ = m.μ[:, j] = 64-element Array{Float64,1}\n",
    "Bⱼ = m.B[:, :, j] = 64×64 Array{Float64,2}\n",
    "Δμⱼ₀ = μᵦ₀ - μⱼ = 64-element Array{Float64,1}\n",
    "Δμⱼ₁ = μᵦ₁ - μⱼ = 64-element Array{Float64,1}\n",
    "αⱼ₀ = Δμⱼ₀' * Bᵦ₀ * Δμⱼ₀ = 0.00014197074409009095\n",
    "αⱼ₁ = Δμⱼ₁' * Bᵦ₁ * Δμⱼ₁ = 0.002905390525307518\n",
    "ζⱼ₀ = Δμⱼ₀' * Bⱼ * Δμⱼ₀ = 0.00014197074409009095\n",
    "ζⱼ₁ = Δμⱼ₁' * Bⱼ * Δμⱼ₁ = 0.006622911282850064\n",
    "g = (((g - log(αⱼ₁)) + log(αⱼ₀)) - log(ζⱼ₁)) + log(ζⱼ₀) = 807.5167914804981\n",
    "qⱼ = Bᵦ₁ * Δμⱼ₁ = 64-element Array{Float64,1}\n",
    "∇g += (Bⱼ * Δμⱼ₁) / (Δμⱼ₁' * Bⱼ * Δμⱼ₁) + (qⱼ * (1 - qⱼ' * (y - μᵦ₁))) / αⱼ₁ = 64-element Array{Float64,1}\n",
    "=#"
   ]
  }
 ],
 "metadata": {
  "@webio": {
   "lastCommId": null,
   "lastKernelId": null
  },
  "kernelspec": {
   "display_name": "Julia 1.1.0",
   "language": "julia",
   "name": "julia-1.1"
  },
  "language_info": {
   "file_extension": ".jl",
   "mimetype": "application/julia",
   "name": "julia",
   "version": "1.1.0"
  }
 },
 "nbformat": 4,
 "nbformat_minor": 2
}
